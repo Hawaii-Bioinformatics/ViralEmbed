{
 "cells": [
  {
   "cell_type": "code",
   "execution_count": 1,
   "metadata": {},
   "outputs": [
    {
     "data": {
      "text/plain": [
       "0"
      ]
     },
     "execution_count": 1,
     "metadata": {},
     "output_type": "execute_result"
    }
   ],
   "source": [
    "from transformers import EsmForSequenceClassification, EsmModel, AutoConfig, EsmConfig, EsmForTokenClassification\n",
    "from peft import PeftModel\n",
    "import torch\n",
    "import esm\n",
    "from Bio import SeqIO\n",
    "import matplotlib.pyplot as plt\n",
    "import numpy as np\n",
    "import json\n",
    "import os\n",
    "from Bio.Seq import Seq\n",
    "import logging\n",
    "from tqdm import tqdm\n",
    "import gc\n",
    "from memory_profiler import profile\n",
    "import statistics\n",
    "import psutil\n",
    "import time\n",
    "\n",
    "gc.collect()\n"
   ]
  },
  {
   "cell_type": "code",
   "execution_count": 2,
   "metadata": {},
   "outputs": [],
   "source": [
    "from unique_virus_fasta import proteins_fasta, virus_fasta\n",
    "from unique_virus_interactions import full_interactions\n",
    "from get_attentions_viruses import parse_fasta, process_sequences\n",
    "from distance_scores import *\n",
    "from virus_contacts_numbers import count_contacts\n",
    "from analyse_contacts_virus import all_metrics, read_full_interaction_file, read_interaction_file\n"
   ]
  },
  {
   "cell_type": "code",
   "execution_count": 3,
   "metadata": {},
   "outputs": [
    {
     "name": "stdout",
     "output_type": "stream",
     "text": [
      "Nombre de GPU disponibles : 2\n",
      "GPU 0: NVIDIA RTX A6000\n",
      "GPU 1: NVIDIA RTX A6000\n",
      "cpu\n"
     ]
    }
   ],
   "source": [
    "# Hardware (for embeddings generation)\n",
    "\n",
    "num_gpus = torch.cuda.device_count()\n",
    "print(f\"Nombre de GPU disponibles : {num_gpus}\")\n",
    "\n",
    "for i in range(num_gpus):\n",
    "    print(f\"GPU {i}: {torch.cuda.get_device_name(i)}\")\n",
    "\n",
    "device = torch.device('cuda' if torch.cuda.is_available() else 'cpu')\n",
    "torch.cuda.empty_cache()\n",
    "device = 'cpu'\n",
    "print(device)"
   ]
  },
  {
   "cell_type": "code",
   "execution_count": 4,
   "metadata": {},
   "outputs": [],
   "source": [
    "def reset_global_variables():\n",
    "    to_delete = [name for name in globals().keys() if not name.startswith(\"_\")]\n",
    "    for name in to_delete:\n",
    "        del globals()[name]\n"
   ]
  },
  {
   "cell_type": "code",
   "execution_count": 5,
   "metadata": {},
   "outputs": [],
   "source": [
    "# Files \n",
    "\n",
    "global_fasta_file = '/home/thibaut/String/base_files/protein.sequences.v10.5.fa'\n",
    "global_links_file = '/home/thibaut/String/viruses/virus_interactions_full.txt'\n",
    "global_viruses_file = '/home/thibaut/String/base_files/species.v10.5.txt'\n",
    "global_proteins_file = '/home/thibaut/String/base_files/protein.aliases.v10.5.txt'\n",
    "virus_id = '11320' \n",
    "\n",
    "saving_folder = f\"/home/thibaut/String/{virus_id}/\"\n",
    "if not os.path.exists(saving_folder):\n",
    "    os.makedirs(saving_folder)\n"
   ]
  },
  {
   "cell_type": "code",
   "execution_count": 6,
   "metadata": {},
   "outputs": [
    {
     "name": "stdout",
     "output_type": "stream",
     "text": [
      "11320\tcore\tInfluenza A virus (strain A/Puerto Rico/8/1934 H1N1)\tInfluenza A virus (strain A/Puerto Rico/8/1934 H1N1)\n",
      "\n",
      "The virus 11320 has 12 proteins\n"
     ]
    }
   ],
   "source": [
    "# Virus informations :\n",
    " \n",
    "with open(global_viruses_file, 'r') as virus_file :\n",
    "    for virus in virus_file : \n",
    "        if virus.startswith(virus_id) : \n",
    "            print(virus)\n",
    "\n",
    "protein_count = []\n",
    "with open(global_proteins_file, 'r') as protein_file : \n",
    "    for protein in protein_file : \n",
    "        if protein.startswith(virus_id) : \n",
    "            prot = protein.split()[0]\n",
    "            if prot not in protein_count : \n",
    "                protein_count.append(prot)\n",
    "\n",
    "print(f\"The virus {virus_id} has {len(protein_count)} proteins\")\n"
   ]
  },
  {
   "cell_type": "code",
   "execution_count": 7,
   "metadata": {},
   "outputs": [],
   "source": [
    "def get_id_map(fasta_file, virus_id) : \n",
    "    id_map = {}\n",
    "    i=0\n",
    "    with open(fasta_file, 'r') as file :\n",
    "        for line in file : \n",
    "            if line.startswith('>'+virus_id) :\n",
    "                full_id = line[1:].split()[0]\n",
    "                prot_id = full_id.split('.')[1]\n",
    "                id_map[i] = prot_id\n",
    "                i+=1\n",
    "\n",
    "    return id_map"
   ]
  },
  {
   "cell_type": "code",
   "execution_count": 8,
   "metadata": {},
   "outputs": [
    {
     "name": "stdout",
     "output_type": "stream",
     "text": [
      "Fasta files exist\n"
     ]
    }
   ],
   "source": [
    "# Generate fasta file for the virus : \n",
    "# Approx 2min to generate the 2 files\n",
    "\n",
    "proteins_output = f\"/home/thibaut/String/{virus_id}/proteins.fasta\"\n",
    "virus_output = f\"/home/thibaut/String/{virus_id}/virus.fasta\"\n",
    "\n",
    "if os.path.exists(proteins_output) and os.path.exists(virus_output) : \n",
    "    print(\"Fasta files exist\")\n",
    "else :\n",
    "    proteins_fasta(global_fasta_file, proteins_output, virus_id)\n",
    "    virus_fasta(proteins_output, virus_output, virus_id)"
   ]
  },
  {
   "cell_type": "code",
   "execution_count": 9,
   "metadata": {},
   "outputs": [
    {
     "name": "stdout",
     "output_type": "stream",
     "text": [
      "Interaction file exists\n"
     ]
    }
   ],
   "source": [
    "# Get the virus links : \n",
    "# Approx 3min to generate the virus interaction file\n",
    "\n",
    "interactions_output = f\"/home/thibaut/String/{virus_id}/virus_full_interactions.txt\"\n",
    "\n",
    "if os.path.exists(interactions_output):\n",
    "    print(\"Interaction file exists\")\n",
    "else : \n",
    "    full_interactions(global_links_file, interactions_output, virus_id)"
   ]
  },
  {
   "cell_type": "code",
   "execution_count": 10,
   "metadata": {},
   "outputs": [],
   "source": [
    "def load_fasta_as_tuples(fasta_path):\n",
    "    sequences = []\n",
    "    # Parcourir chaque enregistrement du fichier FASTA\n",
    "    for record in SeqIO.parse(fasta_path, \"fasta\"):\n",
    "        record_str = str(record.seq)\n",
    "        record.seq = Seq(record_str)\n",
    "        sequences.append((record.id, str(record.seq)))\n",
    "\n",
    "    return sequences"
   ]
  },
  {
   "cell_type": "code",
   "execution_count": 11,
   "metadata": {},
   "outputs": [],
   "source": [
    "@profile\n",
    "def apc(x):\n",
    "    \"Perform average product correct, used for contact prediction.\"\n",
    "    a1 = x.sum(-1, keepdims=True)\n",
    "    a2 = x.sum(-2, keepdims=True)\n",
    "    a12 = x.sum((-1, -2), keepdims=True)\n",
    "\n",
    "    avg = a1 * a2\n",
    "    avg.div_(a12)  # in-place to reduce memory\n",
    "    x.sub_(avg)    \n",
    "    return x\n",
    "\n",
    "def symmetrize(x):\n",
    "    \"Make layer symmetric in final two dimensions, used for contact prediction.\"\n",
    "    return x + x.transpose(-1, -2)"
   ]
  },
  {
   "cell_type": "code",
   "execution_count": 12,
   "metadata": {},
   "outputs": [],
   "source": [
    "# # Generate and store embeddings for the virus_output fasta file\n",
    "# # Approx 1min for 4000 aa virus\n",
    "\n",
    "# logging.getLogger(\"transformers\").setLevel(logging.ERROR) \n",
    "\n",
    "# # Load data and tokenizer\n",
    "# data = load_fasta_as_tuples(virus_output)\n",
    "# print('data loaded')\n",
    "# model_3b, alphabet = esm.pretrained.esm2_t33_650M_UR50D()\n",
    "# batch_converter = alphabet.get_batch_converter()\n",
    "# print('alphabet loaded')\n",
    "\n",
    "# # Create a folder to save the embeddings\n",
    "# saving_folder = f\"/home/thibaut/String/{virus_id}/embeddings/\"\n",
    "# if not os.path.exists(saving_folder):\n",
    "#     os.makedirs(saving_folder)\n",
    "# print('folder created')\n",
    "\n",
    "\n",
    "# # Load esm2 model :\n",
    "# base_model_path = \"facebook/esm2_t33_650M_UR50D\"\n",
    "# model = EsmForSequenceClassification.from_pretrained(base_model_path, max_position_embeddings = 4000, ignore_mismatched_sizes=True, output_attentions = True)\n",
    "# model = model.to(device)\n",
    "# model.eval()\n",
    "# print('esm2 base model loaded')\n",
    "\n",
    "# # Load a fine-tuned model : \n",
    "# model_path = \"/home/thibaut/fine-tunings-results/outputs-sliding-none/checkpoint-400/\"\n",
    "# loaded_model = PeftModel.from_pretrained(model, model_path, ignore_mismatched_sizes=True)\n",
    "# loaded_model = loaded_model.to(device)\n",
    "# loaded_model = loaded_model.eval()\n",
    "# print('fine tuned model loaded')\n",
    "\n",
    "\n",
    "# # Function to get the embeddings and attentions if needed : \n",
    "# def get_embeddings(batch_inputs,i):\n",
    "#     attention_list = []\n",
    "#     with torch.no_grad():\n",
    "#         outputs = loaded_model(input_ids=batch_inputs) \n",
    "#         embeddings, attention_scores = outputs.logits.mean(dim=1), outputs.attentions\n",
    "#         attention_list = list(attention_scores)\n",
    "#         att_full = torch.cat(attention_list, dim=1)\n",
    "\n",
    "#     return embeddings, att_full\n",
    "\n",
    "# batch_size = 1\n",
    "\n",
    "# for i in tqdm(range(0, len(data), batch_size)):\n",
    "\n",
    "#     batch_labels, batch_strs, batch_tokens = batch_converter([data[i]])\n",
    "#     batch_inputs = batch_tokens\n",
    "#     batch_inputs = batch_inputs.to(device)\n",
    "#     embeddings, attentions = get_embeddings(batch_inputs, i)\n",
    "#     attentions.cpu()\n",
    "#     attentions = attentions.to(dtype = torch.float16)\n",
    "\n",
    "#     saving_path = saving_folder + f\"virus_{i}_embeddings.pt\"\n",
    "#     torch.save(embeddings,saving_path)\n",
    "#     saving_path_attentions = saving_folder + f\"virus_{i}_full_attentions.pt\"\n",
    "#     torch.save(attentions,saving_path_attentions)\n",
    "\n",
    "#     torch.cuda.empty_cache()\n",
    "\n"
   ]
  },
  {
   "cell_type": "code",
   "execution_count": 13,
   "metadata": {},
   "outputs": [
    {
     "name": "stdout",
     "output_type": "stream",
     "text": [
      "Folder exists\n"
     ]
    }
   ],
   "source": [
    "# Get and save the attentions for each pair of proteins\n",
    "\n",
    "directory_path = f'/home/thibaut/String/{virus_id}/embeddings/sequence_0_mutual_information' #_apc'\n",
    "\n",
    "if os.path.exists(directory_path) and os.listdir(directory_path) : \n",
    "    print('Folder exists')\n",
    "\n",
    "else : \n",
    "    # might crash - to fix\n",
    "    parsed_data = parse_fasta(proteins_output)\n",
    "    print('Data parsed')\n",
    "    base_embeddings_folder = f\"/home/thibaut/String/{virus_id}/embeddings/\"\n",
    "\n",
    "    base_model_path = \"facebook/esm2_t33_650M_UR50D\"\n",
    "    model = EsmForTokenClassification.from_pretrained(base_model_path)\n",
    "    for name, param in model.named_parameters():\n",
    "        if \"contact_head\" in name : \n",
    "            weights = param\n",
    "            break\n",
    "\n",
    "    process_sequences(parsed_data, base_embeddings_folder, weights)\n"
   ]
  },
  {
   "cell_type": "code",
   "execution_count": 14,
   "metadata": {},
   "outputs": [
    {
     "name": "stdout",
     "output_type": "stream",
     "text": [
      "NaN detected in sigmoid_tensor\n",
      "Results have been written to /home/thibaut/String/11320/results_freq.txt\n"
     ]
    }
   ],
   "source": [
    "# Count the contacts with count_contacts\n",
    "output_file_path = f\"/home/thibaut/String/{virus_id}/results_freq.txt\"\n",
    "# Mutual_information_path \n",
    "directory_path = f'/home/thibaut/String/{virus_id}/embeddings/sequence_0_mutual_information' #_apc'\n",
    "freq_factor = 1\n",
    "# Generate id_map\n",
    "\"\"\"\n",
    "id_map = {\n",
    "    0: \"HEMA_I34A1\", \n",
    "    1: \"M1_I34A1\",\n",
    "    2: \"M2_I34A1\", \n",
    "    3: \"NCAP_I34A1\", \n",
    "    4: \"NEP_I34A1\", \n",
    "    5: \"NRAM_I34A1\", \n",
    "    6: \"NS1_I34A1\", \n",
    "    7: \"PAX_I34A1\", \n",
    "    8: \"PA_I34A1\", \n",
    "    9: \"PB1F2_I34A1\", \n",
    "    10: \"PB2_I34A1\", \n",
    "    11: \"RDRP_I34A1\"\n",
    "}\n",
    "\"\"\"\n",
    "\n",
    "id_map = get_id_map(global_fasta_file, virus_id)\n",
    "\n",
    "tensors , pairs_list = count_contacts(output_file_path, directory_path, id_map, virus_id, freq_factor)"
   ]
  },
  {
   "cell_type": "code",
   "execution_count": 15,
   "metadata": {},
   "outputs": [],
   "source": [
    "# Removes pairs from the dictionary\n",
    "\n",
    "def remove_pairs(data):\n",
    "    unique_tuples = {}\n",
    "    pairs_list = []\n",
    "    for pair, value in data:\n",
    "        if (pair[::-1], value) not in pairs_list:  \n",
    "            unique_tuples[pair] = value  \n",
    "            pairs_list.append((pair, value))\n",
    "\n",
    "    result = list(unique_tuples.items())\n",
    "    return(result)\n"
   ]
  },
  {
   "cell_type": "code",
   "execution_count": 16,
   "metadata": {},
   "outputs": [
    {
     "name": "stdout",
     "output_type": "stream",
     "text": [
      "5 pires paires avec scores : [(('M1_I34A1', 'PB1F2_I34A1'), (1, 9), 177), (('M2_I34A1', 'PB1F2_I34A1'), (2, 9), 217), (('NRAM_I34A1', 'PB1F2_I34A1'), (5, 9), 255), (('HEMA_I34A1', 'PB1F2_I34A1'), (0, 9), 259), (('NS1_I34A1', 'PB1F2_I34A1'), (6, 9), 259)]\n",
      "5 meilleures paires avec scores : [(('M1_I34A1', 'M2_I34A1'), (1, 2), 736), (('M1_I34A1', 'NRAM_I34A1'), (1, 5), 741), (('NEP_I34A1', 'PB2_I34A1'), (4, 10), 794), (('HEMA_I34A1', 'NCAP_I34A1'), (0, 3), 808), (('PB2_I34A1', 'RDRP_I34A1'), (10, 11), 926)]\n"
     ]
    }
   ],
   "source": [
    "# Get the 6 best and 6 worst scores from string for the virus \n",
    "\n",
    "def best_worst_scores(tsv_file, id_map) : \n",
    "    # Get the interactions dict\n",
    "    interactions_full_path, _, _, _ = read_full_interaction_file(tsv_file)\n",
    "    # Sort by STRING global score\n",
    "    sorted_pairs = sorted(interactions_full_path.items(), key=lambda item: item[1][-1])\n",
    "\n",
    "    reversed_id_map = {v: k for k, v in id_map.items()}\n",
    "\n",
    "\n",
    "    worst_pairs = [(pair, scores[-1]) for pair, scores in sorted_pairs[:10]]\n",
    "    best_pairs = [(pair, scores[-1]) for pair, scores in sorted_pairs[-10:]]\n",
    "\n",
    "    worst_pairs = remove_pairs(worst_pairs)\n",
    "    best_pairs = remove_pairs(best_pairs)\n",
    "    \n",
    "    worst_pairs = [((pair, (reversed_id_map[pair[0]],reversed_id_map[pair[1]]), scores)) for pair, scores in worst_pairs]\n",
    "    best_pairs = [((pair, (reversed_id_map[pair[0]],reversed_id_map[pair[1]]), scores)) for pair, scores in best_pairs]\n",
    "\n",
    "    return worst_pairs, best_pairs\n",
    "\n",
    "\n",
    "    #return best_pairs, best_scores, worst_pairs, worst_scores\n",
    "\n",
    "interactions_full_path = f'/home/thibaut/String/{virus_id}/virus_full_interactions.txt'\n",
    "\n",
    "worst_pairs, best_pairs = best_worst_scores(interactions_full_path, id_map)\n",
    "\n",
    "# Afficher les résultats\n",
    "print(\"5 pires paires avec scores :\", worst_pairs)\n",
    "print(\"5 meilleures paires avec scores :\", best_pairs)\n"
   ]
  },
  {
   "cell_type": "code",
   "execution_count": 34,
   "metadata": {},
   "outputs": [],
   "source": [
    "from scipy.stats import gaussian_kde\n",
    "\n",
    "\n",
    "def get_contacts_numbers(pair, tensors, pairs_list, plot = False):\n",
    "\n",
    "    prot1, prot2 = pair[1][0], pair[1][1]\n",
    "    attention_block = f\"{prot1}_{prot2}_attention.pt\"\n",
    "    index = pairs_list.index(attention_block)\n",
    "\n",
    "    last = tensors[index].reshape(1,-1).tolist()[0]\n",
    "\n",
    "    x = np.linspace(min(last),max(last),len(last))\n",
    "    g_kde = gaussian_kde(last)\n",
    "    eval = g_kde.evaluate(x)\n",
    "\n",
    "    fact = (max(last)-min(last))/len(last)\n",
    "    masses = eval * fact\n",
    "    cum = np.cumsum(masses)\n",
    "    x_index_limit = sum(cum >= 0.95)\n",
    "\n",
    "    threshold = x[x_index_limit]\n",
    "    last_index_limit = sum(np.array(last) > threshold)\n",
    "\n",
    "\n",
    "    if plot : \n",
    "        plt.plot(x, eval)\n",
    "        plt.axvline(x=x[last_index_limit], color='black', linestyle='--', label='0.95')\n",
    "        plt.tight_layout()\n",
    "        plt.show()\n",
    "\n",
    "    att_over_threshold = len(last) - last_index_limit\n",
    "\n",
    "    return att_over_threshold"
   ]
  },
  {
   "cell_type": "code",
   "execution_count": null,
   "metadata": {},
   "outputs": [],
   "source": [
    "# from scipy.stats import gaussian_kde\n",
    "# from fastkde import fastKDE\n",
    "\n",
    "\n",
    "# def get_fast_contacts_numbers(pair, tensors, pairs_list, plot = False):\n",
    "\n",
    "#     prot1, prot2 = pair[1][0], pair[1][1]\n",
    "#     attention_block = f\"{prot1}_{prot2}_attention.pt\"\n",
    "#     index = pairs_list.index(attention_block)\n",
    "\n",
    "#     last = tensors[index].reshape(1,-1).tolist()[0]\n",
    "\n",
    "#     x = np.linspace(min(last),max(last),len(last))\n",
    "#     eval, x = fastKDE(np.array(last))\n",
    "\n",
    "#     fact = (max(last)-min(last))/len(last)\n",
    "#     masses = eval * np.diff(x)[0]\n",
    "#     cum = np.cumsum(masses)\n",
    "#     x_index_limit = sum(cum >= 0.95)\n",
    "\n",
    "#     threshold = x[x_index_limit]\n",
    "#     last_index_limit = sum(np.array(last) > threshold)\n",
    "\n",
    "\n",
    "#     if plot : \n",
    "#         plt.plot(x, eval)\n",
    "#         plt.axvline(x=x[last_index_limit], color='black', linestyle='--', label='0.95')\n",
    "#         plt.tight_layout()\n",
    "#         plt.show()\n",
    "\n",
    "#     att_over_threshold = len(last) - last_index_limit\n",
    "\n",
    "#     return att_over_threshold"
   ]
  },
  {
   "cell_type": "code",
   "execution_count": 35,
   "metadata": {},
   "outputs": [
    {
     "data": {
      "image/png": "[encoded data removed]",
      "text/plain": [
       "<Figure size 432x288 with 1 Axes>"
      ]
     },
     "metadata": {
      "needs_background": "light"
     },
     "output_type": "display_data"
    },
    {
     "name": "stdout",
     "output_type": "stream",
     "text": [
      "Timer unit: 1e-09 s\n",
      "\n",
      "Total time: 34.1593 s\n",
      "File: /tmp/ipykernel_1249920/1757996126.py\n",
      "Function: get_contacts_numbers at line 4\n",
      "\n",
      "Line #      Hits         Time  Per Hit   % Time  Line Contents\n",
      "==============================================================\n",
      "     4                                           def get_contacts_numbers(pair, tensors, pairs_list, plot = False):\n",
      "     5                                           \n",
      "     6         1       1011.0   1011.0      0.0      prot1, prot2 = pair[1][0], pair[1][1]\n",
      "     7         1       1047.0   1047.0      0.0      attention_block = f\"{prot1}_{prot2}_attention.pt\"\n",
      "     8         1       2190.0   2190.0      0.0      index = pairs_list.index(attention_block)\n",
      "     9                                           \n",
      "    10         1    1512336.0    2e+06      0.0      last = tensors[index].reshape(1,-1).tolist()[0]\n",
      "    11                                           \n",
      "    12         1    1847213.0    2e+06      0.0      x = np.linspace(min(last),max(last),len(last))\n",
      "    13         1    4599435.0    5e+06      0.0      g_kde = gaussian_kde(last)\n",
      "    14         1        3e+10    3e+10     99.6      eval = g_kde.evaluate(x)\n",
      "    15                                           \n",
      "    16         1    1083363.0    1e+06      0.0      fact = (max(last)-min(last))/len(last)\n",
      "    17         1      79773.0  79773.0      0.0      masses = eval * fact\n",
      "    18         1     178898.0 178898.0      0.0      cum = np.cumsum(masses)\n",
      "    19         1    3867177.0    4e+06      0.0      x_index_limit = sum(cum >= 0.95)\n",
      "    20                                           \n",
      "    21         1       1873.0   1873.0      0.0      threshold = x[x_index_limit]\n",
      "    22         1    5376532.0    5e+06      0.0      last_index_limit = sum(np.array(last) > threshold)\n",
      "    23                                           \n",
      "    24                                           \n",
      "    25         1        297.0    297.0      0.0      if plot : \n",
      "    26         1   19627283.0    2e+07      0.1          plt.plot(x, eval)\n",
      "    27         1    1650776.0    2e+06      0.0          plt.axvline(x=x[last_index_limit], color='black', linestyle='--', label='0.95')\n",
      "    28         1   32540787.0    3e+07      0.1          plt.tight_layout()\n",
      "    29         1   69951384.0    7e+07      0.2          plt.show()\n",
      "    30                                           \n",
      "    31         1       1394.0   1394.0      0.0      att_over_threshold = len(last) - last_index_limit\n",
      "    32                                           \n",
      "    33         1        125.0    125.0      0.0      return att_over_threshold\n",
      "\n"
     ]
    }
   ],
   "source": [
    "from line_profiler import LineProfiler\n",
    "\n",
    "\n",
    "profiler = LineProfiler()\n",
    "profiler.add_function(get_contacts_numbers)\n",
    "profiler.run('get_contacts_numbers(((\"NEP_I34A1\", \"NRAM_I34A1\"), (4, 5), 295), tensors, pairs_list, plot=True)')\n",
    "profiler.print_stats()\n"
   ]
  },
  {
   "cell_type": "code",
   "execution_count": 30,
   "metadata": {},
   "outputs": [
    {
     "ename": "TypeError",
     "evalue": "list indices must be integers or slices, not tuple",
     "output_type": "error",
     "traceback": [
      "\u001b[0;31m---------------------------------------------------------------------------\u001b[0m",
      "\u001b[0;31mTypeError\u001b[0m                                 Traceback (most recent call last)",
      "\u001b[0;32m/tmp/ipykernel_1249920/2671297659.py\u001b[0m in \u001b[0;36m<module>\u001b[0;34m\u001b[0m\n\u001b[0;32m----> 1\u001b[0;31m \u001b[0mnum\u001b[0m \u001b[0;34m=\u001b[0m \u001b[0mget_contacts_numbers\u001b[0m\u001b[0;34m(\u001b[0m\u001b[0;34m(\u001b[0m\u001b[0;34m(\u001b[0m\u001b[0;34m'NEP_I34A1'\u001b[0m\u001b[0;34m,\u001b[0m \u001b[0;34m'NRAM_I34A1'\u001b[0m\u001b[0;34m)\u001b[0m\u001b[0;34m,\u001b[0m \u001b[0;34m(\u001b[0m\u001b[0;36m4\u001b[0m\u001b[0;34m,\u001b[0m \u001b[0;36m5\u001b[0m\u001b[0;34m)\u001b[0m\u001b[0;34m,\u001b[0m \u001b[0;36m295\u001b[0m\u001b[0;34m)\u001b[0m\u001b[0;34m,\u001b[0m \u001b[0mtensors\u001b[0m\u001b[0;34m,\u001b[0m \u001b[0mpairs_list\u001b[0m\u001b[0;34m,\u001b[0m \u001b[0mplot\u001b[0m\u001b[0;34m=\u001b[0m\u001b[0;32mTrue\u001b[0m\u001b[0;34m)\u001b[0m\u001b[0;34m\u001b[0m\u001b[0;34m\u001b[0m\u001b[0m\n\u001b[0m\u001b[1;32m      2\u001b[0m \u001b[0mprint\u001b[0m\u001b[0;34m(\u001b[0m\u001b[0mnum\u001b[0m\u001b[0;34m)\u001b[0m\u001b[0;34m\u001b[0m\u001b[0;34m\u001b[0m\u001b[0m\n",
      "\u001b[0;32m/tmp/ipykernel_1249920/3313729548.py\u001b[0m in \u001b[0;36mget_contacts_numbers\u001b[0;34m(pair, tensors, pairs_list, plot)\u001b[0m\n\u001b[1;32m     12\u001b[0m     \u001b[0mx\u001b[0m \u001b[0;34m=\u001b[0m \u001b[0mnp\u001b[0m\u001b[0;34m.\u001b[0m\u001b[0mlinspace\u001b[0m\u001b[0;34m(\u001b[0m\u001b[0mmin\u001b[0m\u001b[0;34m(\u001b[0m\u001b[0mlast\u001b[0m\u001b[0;34m)\u001b[0m\u001b[0;34m,\u001b[0m\u001b[0mmax\u001b[0m\u001b[0;34m(\u001b[0m\u001b[0mlast\u001b[0m\u001b[0;34m)\u001b[0m\u001b[0;34m,\u001b[0m\u001b[0mlen\u001b[0m\u001b[0;34m(\u001b[0m\u001b[0mlast\u001b[0m\u001b[0;34m)\u001b[0m\u001b[0;34m)\u001b[0m\u001b[0;34m\u001b[0m\u001b[0;34m\u001b[0m\u001b[0m\n\u001b[1;32m     13\u001b[0m \u001b[0;34m\u001b[0m\u001b[0m\n\u001b[0;32m---> 14\u001b[0;31m     \u001b[0mkde\u001b[0m \u001b[0;34m=\u001b[0m \u001b[0mfastkde\u001b[0m\u001b[0;34m.\u001b[0m\u001b[0mpdf\u001b[0m\u001b[0;34m(\u001b[0m\u001b[0mlast\u001b[0m\u001b[0;34m,\u001b[0m \u001b[0mx\u001b[0m\u001b[0;34m)\u001b[0m\u001b[0;34m\u001b[0m\u001b[0;34m\u001b[0m\u001b[0m\n\u001b[0m\u001b[1;32m     15\u001b[0m     \u001b[0mprint\u001b[0m\u001b[0;34m(\u001b[0m\u001b[0mkde\u001b[0m\u001b[0;34m)\u001b[0m\u001b[0;34m\u001b[0m\u001b[0;34m\u001b[0m\u001b[0m\n\u001b[1;32m     16\u001b[0m     \u001b[0meval\u001b[0m \u001b[0;34m=\u001b[0m \u001b[0mkde\u001b[0m\u001b[0;34m.\u001b[0m\u001b[0mevaluate\u001b[0m\u001b[0;34m(\u001b[0m\u001b[0;34m)\u001b[0m\u001b[0;34m\u001b[0m\u001b[0;34m\u001b[0m\u001b[0m\n",
      "\u001b[0;32m~/.local/lib/python3.10/site-packages/fastkde/fastKDE.py\u001b[0m in \u001b[0;36mpdf\u001b[0;34m(*args, **kwargs)\u001b[0m\n\u001b[1;32m   1152\u001b[0m     \u001b[0;31m# Start preparing the input data for\u001b[0m\u001b[0;34m\u001b[0m\u001b[0;34m\u001b[0m\u001b[0m\n\u001b[1;32m   1153\u001b[0m     \u001b[0;31m# concatenation\u001b[0m\u001b[0;34m\u001b[0m\u001b[0;34m\u001b[0m\u001b[0m\n\u001b[0;32m-> 1154\u001b[0;31m     \u001b[0minputVariables\u001b[0m \u001b[0;34m=\u001b[0m \u001b[0mnpy\u001b[0m\u001b[0;34m.\u001b[0m\u001b[0marray\u001b[0m\u001b[0;34m(\u001b[0m\u001b[0mvar0\u001b[0m\u001b[0;34m[\u001b[0m\u001b[0mnpy\u001b[0m\u001b[0;34m.\u001b[0m\u001b[0mnewaxis\u001b[0m\u001b[0;34m,\u001b[0m \u001b[0;34m:\u001b[0m\u001b[0;34m]\u001b[0m\u001b[0;34m)\u001b[0m\u001b[0;34m\u001b[0m\u001b[0;34m\u001b[0m\u001b[0m\n\u001b[0m\u001b[1;32m   1155\u001b[0m \u001b[0;34m\u001b[0m\u001b[0m\n\u001b[1;32m   1156\u001b[0m     \u001b[0;31m# get the number of variables (add one because we already popped var0)\u001b[0m\u001b[0;34m\u001b[0m\u001b[0;34m\u001b[0m\u001b[0m\n",
      "\u001b[0;31mTypeError\u001b[0m: list indices must be integers or slices, not tuple"
     ]
    }
   ],
   "source": [
    "num = get_contacts_numbers((('NEP_I34A1', 'NRAM_I34A1'), (4, 5), 295), tensors, pairs_list, plot=True)\n",
    "print(num)"
   ]
  },
  {
   "cell_type": "code",
   "execution_count": null,
   "metadata": {},
   "outputs": [
    {
     "name": "stdout",
     "output_type": "stream",
     "text": [
      "5 pairs with the lowest String scores :\n",
      "Contacts entre M1_I34A1 et PB1F2_I34A1 : String score = 177 / Kde score = 21922\n",
      "Contacts entre M2_I34A1 et PB1F2_I34A1 : String score = 217 / Kde score = 8437\n",
      "Contacts entre NRAM_I34A1 et PB1F2_I34A1 : String score = 255 / Kde score = 3\n",
      "Contacts entre HEMA_I34A1 et PB1F2_I34A1 : String score = 259 / Kde score = 12\n",
      "Contacts entre NS1_I34A1 et PB1F2_I34A1 : String score = 259 / Kde score = 2792\n",
      "5 pairs with the best String scores :\n",
      "Contacts entre M1_I34A1 et M2_I34A1 : String score = 736 / Kde score = 24430\n",
      "Contacts entre M1_I34A1 et NRAM_I34A1 : String score = 741 / Kde score = 86852\n",
      "Contacts entre NEP_I34A1 et PB2_I34A1 : String score = 794 / Kde score = 90749\n"
     ]
    }
   ],
   "source": [
    "print(\"5 pairs with the lowest String scores :\")\n",
    "for pair in worst_pairs : \n",
    "    num = get_contacts_numbers(pair, tensors, pairs_list, plot=False)\n",
    "    print(f\"Contacts entre {pair[0][0]} et {pair[0][1]} : String score = {pair[2]} / Kde score = {num}\")\n",
    "\n",
    "print(\"5 pairs with the best String scores :\")\n",
    "for pair in best_pairs : \n",
    "    num = get_contacts_numbers(pair, tensors, pairs_list, plot=False)\n",
    "    print(f\"Contacts entre {pair[0][0]} et {pair[0][1]} : String score = {pair[2]} / Kde score = {num}\")"
   ]
  },
  {
   "cell_type": "code",
   "execution_count": null,
   "metadata": {},
   "outputs": [],
   "source": [
    "def compare_and_extend(file1_path, file2_path, output_path):\n",
    "    # Lire et stocker le contenu du premier fichier\n",
    "    existing_pairs = set()\n",
    "    with open(file1_path, 'r') as file1:\n",
    "        file1_lines = file1.readlines()\n",
    "        for line in file1_lines:\n",
    "            parts = line.strip().split()\n",
    "            # Création d'une paire ordonnée pour éviter les doublons inversés\n",
    "            pair = tuple(parts[:2] + parts[2:4])\n",
    "            existing_pairs.add(pair)\n",
    "            # Ajout aussi de la paire inverse pour symétrie\n",
    "            inverse_pair = tuple(parts[:2] + parts[3:1:-1])\n",
    "            existing_pairs.add(inverse_pair)\n",
    "    \n",
    "    # Lire le second fichier et préparer les nouvelles lignes\n",
    "    new_lines = []\n",
    "    with open(file2_path, 'r') as file2:\n",
    "        for line in file2:\n",
    "            parts = line.strip().split()\n",
    "            pair = tuple(parts[:2] + parts[2:4])\n",
    "            inverse_pair = tuple(parts[:2] + parts[3:1:-1])\n",
    "            if pair not in existing_pairs and inverse_pair not in existing_pairs:\n",
    "                # Construire une nouvelle ligne avec des zéros\n",
    "                new_line = ' '.join(parts[:4] + ['0']*11 + ['\\n'])\n",
    "                new_lines.append(new_line)\n",
    "                # Ajouter la paire au set pour éviter les doublons\n",
    "                existing_pairs.add(pair)\n",
    "    \n",
    "    # Écrire le contenu dans le nouveau fichier\n",
    "    with open(output_path, 'w') as output_file:\n",
    "        # Écrire les lignes du premier fichier\n",
    "        output_file.writelines(file1_lines)\n",
    "        # Écrire les nouvelles lignes\n",
    "        output_file.writelines(new_lines)\n",
    "    \n",
    "    print(f\"File has been created at {output_path} with the combined content.\")\n",
    "\n"
   ]
  },
  {
   "cell_type": "code",
   "execution_count": null,
   "metadata": {},
   "outputs": [
    {
     "name": "stdout",
     "output_type": "stream",
     "text": [
      "File has been created at /home/thibaut/String/11320/combined_interactions.txt with the combined content.\n",
      "{('NS1_I34A1', 'PB1F2_I34A1'): 0.1891304347826087, ('M2_I34A1', 'NRAM_I34A1'): 2.3402061855670104, ('NCAP_I34A1', 'NS1_I34A1'): 0.23091966258608732, ('NEP_I34A1', 'RDRP_I34A1'): 3.128065022880951, ('M1_I34A1', 'NEP_I34A1'): 0.2400793650793651, ('NEP_I34A1', 'PB2_I34A1'): 3.136329485690868, ('PB2_I34A1', 'RDRP_I34A1'): 0.4986764014088297, ('HEMA_I34A1', 'NEP_I34A1'): 0.10707807972433236, ('M1_I34A1', 'PAX_I34A1'): 0.5, ('M2_I34A1', 'PAX_I34A1'): 1.2989690721649485, ('NS1_I34A1', 'PA_I34A1'): 1.5565028355387525, ('M2_I34A1', 'PB2_I34A1'): 3.9123179934105643, ('M2_I34A1', 'NS1_I34A1'): 1.1854607290891699, ('NCAP_I34A1', 'RDRP_I34A1'): 0.7600401606425703, ('HEMA_I34A1', 'PB1F2_I34A1'): 0.07698958414911113, ('M2_I34A1', 'PB1F2_I34A1'): 0.44840046763736846, ('HEMA_I34A1', 'NCAP_I34A1'): 0.4407048320150364, ('PAX_I34A1', 'PB2_I34A1'): 1.505952380952381, ('PA_I34A1', 'PB1F2_I34A1'): 0.06075418994413408, ('M2_I34A1', 'RDRP_I34A1'): 3.902008715060049, ('NEP_I34A1', 'NRAM_I34A1'): 1.8759647565057032, ('HEMA_I34A1', 'M2_I34A1'): 0.08583914167123502, ('M1_I34A1', 'PB1F2_I34A1'): 0.17260330057949105, ('M1_I34A1', 'RDRP_I34A1'): 1.501984126984127, ('NRAM_I34A1', 'PB1F2_I34A1'): 0.09581497797356828, ('NCAP_I34A1', 'PAX_I34A1'): 0.25300801599974193, ('NRAM_I34A1', 'RDRP_I34A1'): 0.833695588891692, ('NCAP_I34A1', 'PA_I34A1'): 0.7188755020080321, ('NS1_I34A1', 'PAX_I34A1'): 0.5478071833648394, ('NCAP_I34A1', 'NEP_I34A1'): 0.1214859437751004, ('NS1_I34A1', 'PB2_I34A1'): 1.65, ('HEMA_I34A1', 'M1_I34A1'): 0.22300571697078864, ('PAX_I34A1', 'PA_I34A1'): 1.4199420508944318, ('M1_I34A1', 'NS1_I34A1'): 0.45634920634920634, ('NS1_I34A1', 'RDRP_I34A1'): 1.645633270321361, ('PB1F2_I34A1', 'PB2_I34A1'): 4.36200290659268, ('M2_I34A1', 'NCAP_I34A1'): 2.5670103092783507, ('PA_I34A1', 'PB2_I34A1'): 0.5300259823351331, ('NEP_I34A1', 'PB1F2_I34A1'): 0.3594699815586367, ('NRAM_I34A1', 'NS1_I34A1'): 0.25329911312076697, ('HEMA_I34A1', 'NRAM_I34A1'): 0.4017667789176913, ('NEP_I34A1', 'PAX_I34A1'): 1.0412540127040504, ('NRAM_I34A1', 'PAX_I34A1'): 0.2775281880106348, ('NEP_I34A1', 'PA_I34A1'): 2.958677685950413, ('PA_I34A1', 'RDRP_I34A1'): 0.5286312849162011, ('M2_I34A1', 'NEP_I34A1'): 0.6236581995961313, ('HEMA_I34A1', 'NS1_I34A1'): 0.20353982300884957, ('HEMA_I34A1', 'RDRP_I34A1'): 0.669909938131412, ('NCAP_I34A1', 'NRAM_I34A1'): 0.45581926097966163, ('M1_I34A1', 'PB2_I34A1'): 1.5059366339128244, ('NRAM_I34A1', 'PB2_I34A1'): 0.8358982320634982, ('HEMA_I34A1', 'PB2_I34A1'): 0.6716798496358368, ('PAX_I34A1', 'RDRP_I34A1'): 1.5019683799445704, ('M1_I34A1', 'NRAM_I34A1'): 0.9007779037540943, ('M1_I34A1', 'PA_I34A1'): 1.4206191735953642, ('HEMA_I34A1', 'PAX_I34A1'): 0.22300571697078864, ('NCAP_I34A1', 'PB2_I34A1'): 0.7620441605780552, ('NRAM_I34A1', 'PA_I34A1'): 0.7885414038696656, ('M1_I34A1', 'NCAP_I34A1'): 0.9880952380952381, ('HEMA_I34A1', 'PA_I34A1'): 0.6336251859973373, ('M1_I34A1', 'M2_I34A1'): 0.19246031746031747, ('M2_I34A1', 'PA_I34A1'): 3.6907216494845363, ('PAX_I34A1', 'PB1F2_I34A1'): 0.17261904761904762, ('PB1F2_I34A1', 'RDRP_I34A1'): 4.3505086537191175, ('NCAP_I34A1', 'PB1F2_I34A1'): 0.0873453653973323, ('NEP_I34A1', 'NS1_I34A1'): 0.9504132231404959}\n",
      "{('HEMA_I34A1', 'NEP_I34A1'): (0, 324, 324), ('HEMA_I34A1', 'NS1_I34A1'): (564, 331, 696), ('HEMA_I34A1', 'RDRP_I34A1'): (580, 100, 606), ('HEMA_I34A1', 'NRAM_I34A1'): (0, 793, 706), ('HEMA_I34A1', 'M2_I34A1'): (435, 468, 687), ('HEMA_I34A1', 'NCAP_I34A1'): (678, 428, 808), ('HEMA_I34A1', 'M1_I34A1'): (435, 402, 648), ('HEMA_I34A1', 'PB2_I34A1'): (0, 439, 439), ('HEMA_I34A1', 'PA_I34A1'): (564, 177, 626), ('HEMA_I34A1', 'PB1F2_I34A1'): (0, 259, 259), ('M1_I34A1', 'HEMA_I34A1'): (435, 402, 648), ('M1_I34A1', 'NS1_I34A1'): (583, 279, 686), ('M1_I34A1', 'RDRP_I34A1'): (564, 109, 595), ('M1_I34A1', 'PA_I34A1'): (583, 122, 618), ('M1_I34A1', 'PB1F2_I34A1'): (0, 177, 177), ('M1_I34A1', 'NEP_I34A1'): (564, 322, 692), ('M1_I34A1', 'NRAM_I34A1'): (634, 322, 741), ('M1_I34A1', 'M2_I34A1'): (583, 393, 736), ('M1_I34A1', 'PB2_I34A1'): (435, 319, 599), ('M1_I34A1', 'NCAP_I34A1'): (549, 271, 657), ('M2_I34A1', 'M1_I34A1'): (583, 393, 736), ('M2_I34A1', 'PB2_I34A1'): (0, 349, 349), ('M2_I34A1', 'PA_I34A1'): (558, 130, 599), ('M2_I34A1', 'HEMA_I34A1'): (435, 468, 687), ('M2_I34A1', 'PB1F2_I34A1'): (0, 217, 217), ('M2_I34A1', 'NEP_I34A1'): (0, 344, 344), ('M2_I34A1', 'NS1_I34A1'): (558, 285, 670), ('M2_I34A1', 'NRAM_I34A1'): (0, 444, 444), ('M2_I34A1', 'NCAP_I34A1'): (0, 295, 295), ('NCAP_I34A1', 'PB2_I34A1'): (589, 316, 707), ('NCAP_I34A1', 'M2_I34A1'): (0, 295, 295), ('NCAP_I34A1', 'PA_I34A1'): (575, 95, 599), ('NCAP_I34A1', 'NEP_I34A1'): (0, 295, 295), ('NCAP_I34A1', 'NRAM_I34A1'): (0, 392, 392), ('NCAP_I34A1', 'M1_I34A1'): (549, 271, 657), ('NCAP_I34A1', 'HEMA_I34A1'): (678, 428, 808), ('NCAP_I34A1', 'RDRP_I34A1'): (612, 60, 620), ('NCAP_I34A1', 'NS1_I34A1'): (575, 277, 680), ('NEP_I34A1', 'RDRP_I34A1'): (589, 105, 616), ('NEP_I34A1', 'NS1_I34A1'): (564, 392, 724), ('NEP_I34A1', 'NRAM_I34A1'): (0, 295, 295), ('NEP_I34A1', 'NCAP_I34A1'): (0, 295, 295), ('NEP_I34A1', 'PB2_I34A1'): (675, 392, 794), ('NEP_I34A1', 'M1_I34A1'): (564, 322, 692), ('NEP_I34A1', 'M2_I34A1'): (0, 344, 344), ('NEP_I34A1', 'PB1F2_I34A1'): (0, 267, 267), ('NEP_I34A1', 'PA_I34A1'): (564, 130, 604), ('NEP_I34A1', 'HEMA_I34A1'): (0, 324, 324), ('NRAM_I34A1', 'M2_I34A1'): (0, 444, 444), ('NRAM_I34A1', 'PB1F2_I34A1'): (0, 255, 255), ('NRAM_I34A1', 'PA_I34A1'): (564, 178, 626), ('NRAM_I34A1', 'HEMA_I34A1'): (0, 793, 706), ('NRAM_I34A1', 'RDRP_I34A1'): (580, 110, 610), ('NRAM_I34A1', 'PB2_I34A1'): (0, 430, 430), ('NRAM_I34A1', 'NS1_I34A1'): (564, 326, 694), ('NRAM_I34A1', 'NEP_I34A1'): (0, 295, 295), ('NRAM_I34A1', 'NCAP_I34A1'): (0, 392, 392), ('NRAM_I34A1', 'M1_I34A1'): (634, 322, 741), ('NS1_I34A1', 'PB1F2_I34A1'): (0, 259, 259), ('NS1_I34A1', 'NCAP_I34A1'): (575, 277, 680), ('NS1_I34A1', 'HEMA_I34A1'): (564, 331, 696), ('NS1_I34A1', 'RDRP_I34A1'): (587, 130, 625), ('NS1_I34A1', 'NEP_I34A1'): (564, 392, 724), ('NS1_I34A1', 'M1_I34A1'): (583, 279, 686), ('NS1_I34A1', 'NRAM_I34A1'): (564, 326, 694), ('NS1_I34A1', 'M2_I34A1'): (558, 285, 670), ('NS1_I34A1', 'PA_I34A1'): (588, 168, 643), ('NS1_I34A1', 'PB2_I34A1'): (564, 350, 704), ('PA_I34A1', 'HEMA_I34A1'): (564, 177, 626), ('PA_I34A1', 'PB1F2_I34A1'): (473, 125, 519), ('PA_I34A1', 'M1_I34A1'): (583, 122, 618), ('PA_I34A1', 'M2_I34A1'): (558, 130, 599), ('PA_I34A1', 'PB2_I34A1'): (564, 279, 672), ('PA_I34A1', 'NCAP_I34A1'): (575, 95, 599), ('PA_I34A1', 'NEP_I34A1'): (564, 130, 604), ('PA_I34A1', 'NS1_I34A1'): (588, 168, 643), ('PA_I34A1', 'NRAM_I34A1'): (564, 178, 626), ('PA_I34A1', 'RDRP_I34A1'): (587, 203, 657), ('PB1F2_I34A1', 'M1_I34A1'): (0, 177, 177), ('PB1F2_I34A1', 'NRAM_I34A1'): (0, 255, 255), ('PB1F2_I34A1', 'M2_I34A1'): (0, 217, 217), ('PB1F2_I34A1', 'PA_I34A1'): (473, 125, 519), ('PB1F2_I34A1', 'HEMA_I34A1'): (0, 259, 259), ('PB1F2_I34A1', 'NEP_I34A1'): (0, 267, 267), ('PB1F2_I34A1', 'NS1_I34A1'): (0, 259, 259), ('PB1F2_I34A1', 'PB2_I34A1'): (473, 335, 635), ('PB2_I34A1', 'NRAM_I34A1'): (0, 430, 430), ('PB2_I34A1', 'RDRP_I34A1'): (589, 828, 926), ('PB2_I34A1', 'NCAP_I34A1'): (589, 316, 707), ('PB2_I34A1', 'HEMA_I34A1'): (0, 439, 439), ('PB2_I34A1', 'PA_I34A1'): (564, 279, 672), ('PB2_I34A1', 'PB1F2_I34A1'): (473, 335, 635), ('PB2_I34A1', 'NEP_I34A1'): (675, 392, 794), ('PB2_I34A1', 'NS1_I34A1'): (564, 350, 704), ('PB2_I34A1', 'M2_I34A1'): (0, 349, 349), ('PB2_I34A1', 'M1_I34A1'): (435, 319, 599), ('RDRP_I34A1', 'NRAM_I34A1'): (580, 110, 610), ('RDRP_I34A1', 'M1_I34A1'): (564, 109, 595), ('RDRP_I34A1', 'NS1_I34A1'): (587, 130, 625), ('RDRP_I34A1', 'NEP_I34A1'): (589, 105, 616), ('RDRP_I34A1', 'PA_I34A1'): (587, 203, 657), ('RDRP_I34A1', 'HEMA_I34A1'): (580, 100, 606), ('RDRP_I34A1', 'NCAP_I34A1'): (612, 60, 620), ('RDRP_I34A1', 'PB2_I34A1'): (589, 828, 926)}\n",
      "0.16769872347090609\n",
      "Score String complet\n",
      "Pearson correlation coefficient between String and predicted contacts : 0.067\n",
      "True Positives: 40\n",
      "False Positives: 6\n",
      "True Negatives: 3\n",
      "False Negatives: 3\n",
      "Accuracy: 0.827\n",
      "Precision: 0.870\n",
      "Recall: 0.930\n",
      "F1 Score: 0.899\n"
     ]
    }
   ],
   "source": [
    "# Final analysis with analyse_contacts (all_metrics)\n",
    "results_path = f'/home/thibaut/String/{virus_id}/results_freq.txt'\n",
    "interactions_full_path = f'/home/thibaut/String/{virus_id}/virus_full_interactions.txt'\n",
    "distances_path = '/home/thibaut/String/Influenza/Influenza_A_sizes.txt'\n",
    "extended_interactions_full = f'/home/thibaut/String/{virus_id}/combined_interactions.txt'\n",
    "compare_and_extend(interactions_full_path, results_path, extended_interactions_full)\n",
    "\n",
    "results_data, results_scores = read_interaction_file(results_path)\n",
    "print(results_data)\n",
    "interaction_data_full, interaction_mining_scores , interaction_exp_scores, interaction_scores_full = read_full_interaction_file(interactions_full_path)\n",
    "print(interaction_data_full)\n",
    "distances_data, distances_scores = read_interaction_file(distances_path)\n",
    "string_tr = 300\n",
    "model_tr = statistics.median(results_scores)/4\n",
    "\n",
    "print(statistics.median(results_scores)/4)\n",
    "\n",
    "\n",
    "all_metrics(results_data, results_scores, interaction_data_full, \"complete_score\", distances_data, distances_scores, string_tr, model_tr)"
   ]
  },
  {
   "cell_type": "code",
   "execution_count": null,
   "metadata": {},
   "outputs": [],
   "source": []
  }
 ],
 "metadata": {
  "kernelspec": {
   "display_name": "Python 3",
   "language": "python",
   "name": "python3"
  },
  "language_info": {
   "codemirror_mode": {
    "name": "ipython",
    "version": 3
   },
   "file_extension": ".py",
   "mimetype": "text/x-python",
   "name": "python",
   "nbconvert_exporter": "python",
   "pygments_lexer": "ipython3",
   "version": "3.10.12"
  }
 },
 "nbformat": 4,
 "nbformat_minor": 2
}

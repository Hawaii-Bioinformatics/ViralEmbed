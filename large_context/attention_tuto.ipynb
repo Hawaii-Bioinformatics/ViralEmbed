{
 "cells": [
  {
   "cell_type": "code",
   "execution_count": 1,
   "metadata": {},
   "outputs": [],
   "source": [
    "# Imports\n",
    "import math\n",
    "import torch\n",
    "import torch.nn as nn\n",
    "from typing import Tuple\n",
    "import torch.nn.functional as F\n",
    "from typing import List, Optional, Tuple, Union\n",
    "from functools import lru_cache\n",
    "import random\n",
    "import numpy as np\n",
    "import time\n",
    "from transformers import PreTrainedModel, PretrainedConfig\n",
    "from transformers.modeling_outputs import BaseModelOutputWithPoolingAndCrossAttentions, TokenClassifierOutput, BaseModelOutputWithPastAndCrossAttentions\n",
    "import esm\n",
    "\n",
    "_, alphabet = esm.pretrained.esm2_t33_650M_UR50D()\n",
    "batch_converter = alphabet.get_batch_converter()"
   ]
  },
  {
   "cell_type": "code",
   "execution_count": 2,
   "metadata": {
    "jupyter": {
     "source_hidden": true
    }
   },
   "outputs": [],
   "source": [
    "# ESM Model configuration\n",
    "\n",
    "class EsmConfig(PretrainedConfig):\n",
    "    model_type = \"esm\"\n",
    "\n",
    "    def __init__(\n",
    "        self,\n",
    "        vocab_size=33,\n",
    "        mask_token_id=None,\n",
    "        pad_token_id=1,\n",
    "        hidden_size=1280,\n",
    "        num_hidden_layers=33,\n",
    "        num_attention_heads=20,\n",
    "        intermediate_size=5120,\n",
    "        hidden_dropout_prob=0.1,\n",
    "        attention_probs_dropout_prob=0.1,\n",
    "        max_position_embeddings=1026,\n",
    "        initializer_range=0.02,\n",
    "        layer_norm_eps=1e-12,\n",
    "        position_embedding_type=\"alibi\", # rotary for short seqeunces\n",
    "        use_cache=True,\n",
    "        emb_layer_norm_before=None,\n",
    "        token_dropout=False,\n",
    "        is_folding_model=False,\n",
    "        esmfold_config=None,\n",
    "        vocab_list=None,\n",
    "        **kwargs,\n",
    "    ):\n",
    "        super().__init__(pad_token_id=pad_token_id, mask_token_id=mask_token_id, **kwargs)\n",
    "\n",
    "        self.vocab_size = vocab_size\n",
    "        self.hidden_size = hidden_size\n",
    "        self.num_hidden_layers = num_hidden_layers\n",
    "        self.num_attention_heads = num_attention_heads\n",
    "        self.intermediate_size = intermediate_size\n",
    "        self.hidden_dropout_prob = hidden_dropout_prob\n",
    "        self.attention_probs_dropout_prob = attention_probs_dropout_prob\n",
    "        self.max_position_embeddings = max_position_embeddings\n",
    "        self.initializer_range = initializer_range\n",
    "        self.layer_norm_eps = layer_norm_eps\n",
    "        self.position_embedding_type = position_embedding_type\n",
    "        self.use_cache = use_cache\n",
    "        self.emb_layer_norm_before = emb_layer_norm_before\n",
    "        self.token_dropout = token_dropout\n",
    "        self.is_folding_model = is_folding_model\n",
    "        if is_folding_model:\n",
    "            if esmfold_config is None:\n",
    "                logger.info(\"No esmfold_config supplied for folding model, using default values.\")\n",
    "                esmfold_config = EsmFoldConfig()\n",
    "            elif isinstance(esmfold_config, dict):\n",
    "                esmfold_config = EsmFoldConfig(**esmfold_config)\n",
    "            self.esmfold_config = esmfold_config\n",
    "            if vocab_list is None:\n",
    "                logger.warning(\"No vocab_list supplied for folding model, assuming the ESM-2 vocabulary!\")\n",
    "                self.vocab_list = get_default_vocab_list()\n",
    "            else:\n",
    "                self.vocab_list = vocab_list\n",
    "        else:\n",
    "            self.esmfold_config = None\n",
    "            self.vocab_list = None\n",
    "        if self.esmfold_config is not None and getattr(self.esmfold_config, \"use_esm_attn_map\", False):\n",
    "            raise ValueError(\"The HuggingFace port of ESMFold does not support use_esm_attn_map at this time!\")\n",
    "\n",
    "    def to_dict(self):\n",
    "        \"\"\"\n",
    "        Serializes this instance to a Python dictionary. Override the default [`~PretrainedConfig.to_dict`].\n",
    "\n",
    "        Returns:\n",
    "            `Dict[str, any]`: Dictionary of all the attributes that make up this configuration instance,\n",
    "        \"\"\"\n",
    "        output = super().to_dict()\n",
    "        if isinstance(self.esmfold_config, EsmFoldConfig):\n",
    "            output[\"esmfold_config\"] = self.esmfold_config.to_dict()\n",
    "        return output"
   ]
  },
  {
   "cell_type": "code",
   "execution_count": 3,
   "metadata": {},
   "outputs": [],
   "source": [
    "# RoPE functions\n",
    "\n",
    "\n",
    "def rotate_half(x):\n",
    "    x1, x2 = x.chunk(2, dim=-1)\n",
    "    return torch.cat((-x2, x1), dim=-1)\n",
    "\n",
    "\n",
    "def apply_rotary_pos_emb(x, cos, sin):\n",
    "    cos = cos[:, :, : x.shape[-2], :]\n",
    "    sin = sin[:, :, : x.shape[-2], :]\n",
    "\n",
    "    return (x * cos) + (rotate_half(x) * sin)\n",
    "\n",
    "\n",
    "def gelu(x):\n",
    "    \"\"\"\n",
    "    This is the gelu implementation from the original ESM repo. Using F.gelu yields subtly wrong results.\n",
    "    \"\"\"\n",
    "    return x * 0.5 * (1.0 + torch.erf(x / math.sqrt(2.0)))\n",
    "\n"
   ]
  },
  {
   "cell_type": "code",
   "execution_count": 4,
   "metadata": {
    "jupyter": {
     "source_hidden": true
    }
   },
   "outputs": [],
   "source": [
    "# ESM Pretrained model class for weights loading & initialization\n",
    "class EsmPreTrainedModel(PreTrainedModel):\n",
    "    \"\"\"\n",
    "    An abstract class to handle weights initialization and a simple interface for downloading and loading pretrained\n",
    "    models.\n",
    "    \"\"\"\n",
    "\n",
    "    config_class = EsmConfig\n",
    "    base_model_prefix = \"esm\"\n",
    "    supports_gradient_checkpointing = True\n",
    "    _no_split_modules = [\"EsmLayer\", \"EsmFoldTriangularSelfAttentionBlock\", \"EsmEmbeddings\"]\n",
    "\n",
    "    # Copied from transformers.models.bert.modeling_bert.BertPreTrainedModel._init_weights\n",
    "    def _init_weights(self, module):\n",
    "        \"\"\"Initialize the weights\"\"\"\n",
    "        if isinstance(module, nn.Linear):\n",
    "            # Slightly different from the TF version which uses truncated_normal for initialization\n",
    "            # cf https://github.com/pytorch/pytorch/pull/5617\n",
    "            module.weight.data.normal_(mean=0.0, std=self.config.initializer_range)\n",
    "            if module.bias is not None:\n",
    "                module.bias.data.zero_()\n",
    "        elif isinstance(module, nn.Embedding):\n",
    "            module.weight.data.normal_(mean=0.0, std=self.config.initializer_range)\n",
    "            if module.padding_idx is not None:\n",
    "                module.weight.data[module.padding_idx].zero_()\n",
    "        elif isinstance(module, nn.LayerNorm):\n",
    "            module.bias.data.zero_()\n",
    "            module.weight.data.fill_(1.0)"
   ]
  },
  {
   "cell_type": "code",
   "execution_count": 5,
   "metadata": {
    "jupyter": {
     "source_hidden": true
    }
   },
   "outputs": [],
   "source": [
    "# ESM Model main class (Embeddings + Encoder)\n",
    "class EsmModel(EsmPreTrainedModel):\n",
    "    def __init__(self, config, add_pooling_layer=True):\n",
    "        super().__init__(config)\n",
    "        self.config = config\n",
    "\n",
    "        self.embeddings = EsmEmbeddings(config)\n",
    "        self.encoder = EsmEncoder(config)\n",
    "\n",
    "        self.pooler = EsmPooler(config) if add_pooling_layer else None\n",
    "\n",
    "        self.contact_head = EsmContactPredictionHead(\n",
    "            in_features=config.num_hidden_layers * config.num_attention_heads, bias=True\n",
    "        )\n",
    "        self.post_init()\n",
    "\n",
    "    def get_input_embeddings(self):\n",
    "        return self.embeddings.word_embeddings\n",
    "\n",
    "    def set_input_embeddings(self, value):\n",
    "        self.embeddings.word_embeddings = value\n",
    "\n",
    "    def _prune_heads(self, heads_to_prune):\n",
    "\n",
    "        for layer, heads in heads_to_prune.items():\n",
    "            self.encoder.layer[layer].attention.prune_heads(heads)\n",
    "\n",
    "    def forward(\n",
    "        self,\n",
    "        input_ids: Optional[torch.Tensor] = None,\n",
    "        attention_mask: Optional[torch.Tensor] = None,\n",
    "        position_ids: Optional[torch.Tensor] = None,\n",
    "        head_mask: Optional[torch.Tensor] = None,\n",
    "        inputs_embeds: Optional[torch.Tensor] = None,\n",
    "        encoder_hidden_states: Optional[torch.Tensor] = None,\n",
    "        encoder_attention_mask: Optional[torch.Tensor] = None,\n",
    "        past_key_values: Optional[List[torch.FloatTensor]] = None,\n",
    "        use_cache: Optional[bool] = None,\n",
    "        output_attentions: Optional[bool] = None,\n",
    "        output_hidden_states: Optional[bool] = None,\n",
    "        return_dict: Optional[bool] = None,\n",
    "    ) -> Union[Tuple[torch.Tensor], BaseModelOutputWithPoolingAndCrossAttentions]:\n",
    "        \n",
    "        output_attentions = output_attentions if output_attentions is not None else self.config.output_attentions\n",
    "        output_hidden_states = (\n",
    "            output_hidden_states if output_hidden_states is not None else self.config.output_hidden_states\n",
    "        )\n",
    "        return_dict = return_dict if return_dict is not None else self.config.use_return_dict\n",
    "\n",
    "        if self.config.is_decoder:\n",
    "            use_cache = use_cache if use_cache is not None else self.config.use_cache\n",
    "        else:\n",
    "            use_cache = False\n",
    "\n",
    "        if input_ids is not None and inputs_embeds is not None:\n",
    "            raise ValueError(\"You cannot specify both input_ids and inputs_embeds at the same time\")\n",
    "        elif input_ids is not None:\n",
    "            self.warn_if_padding_and_no_attention_mask(input_ids, attention_mask)\n",
    "            input_shape = input_ids.size()\n",
    "        elif inputs_embeds is not None:\n",
    "            input_shape = inputs_embeds.size()[:-1]\n",
    "        else:\n",
    "            raise ValueError(\"You have to specify either input_ids or inputs_embeds\")\n",
    "\n",
    "        batch_size, seq_length = input_shape\n",
    "        device = input_ids.device if input_ids is not None else inputs_embeds.device\n",
    "\n",
    "        # past_key_values_length\n",
    "        past_key_values_length = past_key_values[0][0].shape[2] if past_key_values is not None else 0\n",
    "\n",
    "        if attention_mask is None:\n",
    "            attention_mask = torch.ones(((batch_size, seq_length + past_key_values_length)), device=device)\n",
    "\n",
    "        # We can provide a self-attention mask of dimensions [batch_size, from_seq_length, to_seq_length]\n",
    "        # ourselves in which case we just need to make it broadcastable to all heads.\n",
    "        extended_attention_mask: torch.Tensor = self.get_extended_attention_mask(attention_mask, input_shape)\n",
    "\n",
    "        # If a 2D or 3D attention mask is provided for the cross-attention\n",
    "        # we need to make broadcastable to [batch_size, num_heads, seq_length, seq_length]\n",
    "        if self.config.is_decoder and encoder_hidden_states is not None:\n",
    "            encoder_batch_size, encoder_sequence_length, _ = encoder_hidden_states.size()\n",
    "            encoder_hidden_shape = (encoder_batch_size, encoder_sequence_length)\n",
    "            if encoder_attention_mask is None:\n",
    "                encoder_attention_mask = torch.ones(encoder_hidden_shape, device=device)\n",
    "            encoder_extended_attention_mask = self.invert_attention_mask(encoder_attention_mask)\n",
    "        else:\n",
    "            encoder_extended_attention_mask = None\n",
    "\n",
    "        head_mask = self.get_head_mask(head_mask, self.config.num_hidden_layers)\n",
    "\n",
    "        embedding_output = self.embeddings(\n",
    "            input_ids=input_ids,\n",
    "            position_ids=position_ids,\n",
    "            attention_mask=attention_mask,\n",
    "            inputs_embeds=inputs_embeds,\n",
    "            past_key_values_length=past_key_values_length,\n",
    "        )\n",
    "        encoder_outputs = self.encoder(\n",
    "            embedding_output,\n",
    "            attention_mask=extended_attention_mask,\n",
    "            head_mask=head_mask,\n",
    "            encoder_hidden_states=encoder_hidden_states,\n",
    "            encoder_attention_mask=encoder_extended_attention_mask,\n",
    "            past_key_values=past_key_values,\n",
    "            use_cache=use_cache,\n",
    "            output_attentions=output_attentions,\n",
    "            output_hidden_states=output_hidden_states,\n",
    "            return_dict=return_dict,\n",
    "        )\n",
    "        sequence_output = encoder_outputs[0]\n",
    "        pooled_output = self.pooler(sequence_output) if self.pooler is not None else None\n",
    "\n",
    "        if not return_dict:\n",
    "            return (sequence_output, pooled_output) + encoder_outputs[1:]\n",
    "\n",
    "        return BaseModelOutputWithPoolingAndCrossAttentions(\n",
    "            last_hidden_state=sequence_output,\n",
    "            pooler_output=pooled_output,\n",
    "            past_key_values=encoder_outputs.past_key_values,\n",
    "            hidden_states=encoder_outputs.hidden_states,\n",
    "            attentions=encoder_outputs.attentions,\n",
    "            cross_attentions=encoder_outputs.cross_attentions,\n",
    "        )\n",
    "\n",
    "    def predict_contacts(self, tokens, attention_mask):\n",
    "        attns = self(tokens, attention_mask=attention_mask, return_dict=True, output_attentions=True).attentions\n",
    "        attns = torch.stack(attns, dim=1)  # Matches the original model layout\n",
    "        # In the original model, attentions for padding tokens are completely zeroed out.\n",
    "        # This makes no difference most of the time because the other tokens won't attend to them,\n",
    "        # but it does for the contact prediction task, which takes attentions as input,\n",
    "        # so we have to mimic that here.\n",
    "        attns *= attention_mask.unsqueeze(1).unsqueeze(2).unsqueeze(3)\n",
    "        attns *= attention_mask.unsqueeze(1).unsqueeze(2).unsqueeze(4)\n",
    "        return self.contact_head(tokens, attns)\n",
    "\n"
   ]
  },
  {
   "cell_type": "code",
   "execution_count": 6,
   "metadata": {
    "jupyter": {
     "source_hidden": true
    }
   },
   "outputs": [],
   "source": [
    "# ESM Contact Prediction Class\n",
    "\n",
    "class EsmContactPredictionHead(nn.Module):\n",
    "    \"\"\"Performs symmetrization, apc, and computes a logistic regression on the output features\"\"\"\n",
    "\n",
    "    def __init__(\n",
    "        self,\n",
    "        in_features: int,\n",
    "        bias=True,\n",
    "        eos_idx: int = 2,\n",
    "    ):\n",
    "        super().__init__()\n",
    "        self.in_features = in_features\n",
    "        self.eos_idx = eos_idx\n",
    "        self.regression = nn.Linear(in_features, 1, bias)\n",
    "        self.activation = nn.Sigmoid()\n",
    "\n",
    "    def forward(self, tokens, attentions):\n",
    "        # remove eos token attentions\n",
    "        eos_mask = tokens.ne(self.eos_idx).to(attentions)\n",
    "        eos_mask = eos_mask.unsqueeze(1) * eos_mask.unsqueeze(2)\n",
    "        attentions = attentions * eos_mask[:, None, None, :, :]\n",
    "        attentions = attentions[..., :-1, :-1]\n",
    "        # remove cls token attentions\n",
    "        attentions = attentions[..., 1:, 1:]\n",
    "        batch_size, layers, heads, seqlen, _ = attentions.size()\n",
    "        attentions = attentions.view(batch_size, layers * heads, seqlen, seqlen)\n",
    "\n",
    "        # features: batch x channels x tokens x tokens (symmetric)\n",
    "        attentions = attentions.to(\n",
    "            self.regression.weight.device\n",
    "        )  # attentions always float32, may need to convert to float16\n",
    "        attentions = average_product_correct(symmetrize(attentions))\n",
    "        attentions = attentions.permute(0, 2, 3, 1)\n",
    "        return self.activation(self.regression(attentions).squeeze(3))\n",
    "\n"
   ]
  },
  {
   "cell_type": "code",
   "execution_count": 7,
   "metadata": {
    "jupyter": {
     "source_hidden": true
    }
   },
   "outputs": [],
   "source": [
    "# ESM Sub-class for Token Classification\n",
    "class EsmForTokenClassification(EsmPreTrainedModel):\n",
    "    def __init__(self, config):\n",
    "        super().__init__(config)\n",
    "        self.num_labels = config.num_labels\n",
    "\n",
    "        self.esm = EsmModel(config, add_pooling_layer=False)\n",
    "        self.dropout = nn.Dropout(config.hidden_dropout_prob)\n",
    "        self.classifier = nn.Linear(config.hidden_size, config.num_labels)\n",
    "\n",
    "        self.init_weights()\n",
    "\n",
    "    def forward(\n",
    "        self,\n",
    "        input_ids: Optional[torch.LongTensor] = None,\n",
    "        attention_mask: Optional[torch.Tensor] = None,\n",
    "        position_ids: Optional[torch.LongTensor] = None,\n",
    "        head_mask: Optional[torch.Tensor] = None,\n",
    "        inputs_embeds: Optional[torch.FloatTensor] = None,\n",
    "        labels: Optional[torch.LongTensor] = None,\n",
    "        output_attentions: Optional[bool] = None,\n",
    "        output_hidden_states: Optional[bool] = None,\n",
    "        return_dict: Optional[bool] = None,\n",
    "    ) -> Union[Tuple, TokenClassifierOutput]:\n",
    "        r\"\"\"\n",
    "        labels (`torch.LongTensor` of shape `(batch_size, sequence_length)`, *optional*):\n",
    "            Labels for computing the token classification loss. Indices should be in `[0, ..., config.num_labels - 1]`.\n",
    "        \"\"\"\n",
    "        return_dict = return_dict if return_dict is not None else self.config.use_return_dict\n",
    "\n",
    "        outputs = self.esm(\n",
    "            input_ids,\n",
    "            attention_mask=attention_mask,\n",
    "            position_ids=position_ids,\n",
    "            head_mask=head_mask,\n",
    "            inputs_embeds=inputs_embeds,\n",
    "            output_attentions=output_attentions,\n",
    "            output_hidden_states=output_hidden_states,\n",
    "            return_dict=return_dict,\n",
    "        )\n",
    "\n",
    "        sequence_output = outputs[0]\n",
    "\n",
    "        sequence_output = self.dropout(sequence_output)\n",
    "        #logits = self.classifier(sequence_output)\n",
    "        logits = sequence_output\n",
    "\n",
    "        loss = None\n",
    "        if labels is not None:\n",
    "            loss_fct = CrossEntropyLoss()\n",
    "\n",
    "            labels = labels.to(logits.device)\n",
    "            loss = loss_fct(logits.view(-1, self.num_labels), labels.view(-1))\n",
    "\n",
    "        if not return_dict:\n",
    "            output = (logits,) + outputs[2:]\n",
    "            return ((loss,) + output) if loss is not None else output\n",
    "\n",
    "        return TokenClassifierOutput(\n",
    "            loss=loss,\n",
    "            logits=logits,\n",
    "            hidden_states=outputs.hidden_states,\n",
    "            attentions=outputs.attentions,\n",
    "        )"
   ]
  },
  {
   "cell_type": "code",
   "execution_count": 8,
   "metadata": {
    "jupyter": {
     "source_hidden": true
    }
   },
   "outputs": [],
   "source": [
    "# -> ESM Embeddings generation (word embeddings + position embeddings) Class\n",
    "\n",
    "class EsmEmbeddings(nn.Module):\n",
    "    \"\"\"\n",
    "    Same as BertEmbeddings with a tiny tweak for positional embeddings indexing.\n",
    "    \"\"\"\n",
    "\n",
    "    def __init__(self, config):\n",
    "        super().__init__()\n",
    "        self.word_embeddings = nn.Embedding(config.vocab_size, config.hidden_size, padding_idx=config.pad_token_id)\n",
    "\n",
    "        if config.emb_layer_norm_before:\n",
    "            self.layer_norm = nn.LayerNorm(config.hidden_size, eps=config.layer_norm_eps)\n",
    "        else:\n",
    "            self.layer_norm = None\n",
    "        self.dropout = nn.Dropout(config.hidden_dropout_prob)\n",
    "        # position_ids (1, len position emb) is contiguous in memory and exported when serialized\n",
    "        self.position_embedding_type = getattr(config, \"position_embedding_type\", \"absolute\")\n",
    "        self.register_buffer(\n",
    "            \"position_ids\", torch.arange(config.max_position_embeddings).expand((1, -1)), persistent=False\n",
    "        )\n",
    "\n",
    "        self.padding_idx = config.pad_token_id\n",
    "        self.position_embeddings = nn.Embedding(\n",
    "            config.max_position_embeddings, config.hidden_size, padding_idx=self.padding_idx\n",
    "        )\n",
    "        self.token_dropout = config.token_dropout\n",
    "        self.mask_token_id = config.mask_token_id\n",
    "\n",
    "    def forward(\n",
    "        self, input_ids=None, attention_mask=None, position_ids=None, inputs_embeds=None, past_key_values_length=0\n",
    "    ):\n",
    "        # Input = input_ids = torch.Size(batch_size, seq_legnth) : Tokenized input sequence\n",
    "\n",
    "        # Get the position where padding starts if not specified by position_ids\n",
    "        if position_ids is None:\n",
    "            if input_ids is not None:\n",
    "                # Create the position ids from the input token ids. Any padded tokens remain padded.\n",
    "                position_ids = create_position_ids_from_input_ids(input_ids, self.padding_idx, past_key_values_length)\n",
    "            else:\n",
    "                position_ids = self.create_position_ids_from_inputs_embeds(inputs_embeds)\n",
    "\n",
    "        if inputs_embeds is None: # If input embeddings are not specified (usually True)\n",
    "            inputs_embeds = self.word_embeddings(input_ids) \n",
    "\n",
    "        embeddings = inputs_embeds # torch.Size(batch_size, seq_length, hidden_dim)\n",
    "\n",
    "        if self.token_dropout: # For MLM Training\n",
    "            embeddings = embeddings.masked_fill((input_ids == self.mask_token_id).unsqueeze(-1), 0.0)\n",
    "            mask_ratio_train = 0.15 * 0.8  # Hardcoded as the ratio used in all ESM model training runs\n",
    "            src_lengths = attention_mask.sum(-1)\n",
    "            mask_ratio_observed = (input_ids == self.mask_token_id).sum(-1).float() / src_lengths\n",
    "            embeddings = (embeddings * (1 - mask_ratio_train) / (1 - mask_ratio_observed)[:, None, None]).to(\n",
    "                embeddings.dtype\n",
    "            )\n",
    "        # Positional encoding if \"absolute\" (else : during attention : RoPE, ALibi)\n",
    "        if self.position_embedding_type == \"absolute\":\n",
    "            position_embeddings = self.position_embeddings(position_ids)\n",
    "            embeddings = embeddings + position_embeddings\n",
    "\n",
    "        if self.layer_norm is not None:\n",
    "            embeddings = self.layer_norm(embeddings)\n",
    "        if attention_mask is not None:\n",
    "            embeddings = (embeddings * attention_mask.unsqueeze(-1)).to(embeddings.dtype)\n",
    "\n",
    "        return embeddings\n",
    "\n",
    "    def create_position_ids_from_inputs_embeds(self, inputs_embeds):\n",
    "        \"\"\"\n",
    "        We are provided embeddings directly. We cannot infer which are padded so just generate sequential position ids.\n",
    "\n",
    "        Args:\n",
    "            inputs_embeds: torch.Tensor\n",
    "\n",
    "        Returns: torch.Tensor\n",
    "        \"\"\"\n",
    "        input_shape = inputs_embeds.size()[:-1]\n",
    "        sequence_length = input_shape[1]\n",
    "\n",
    "        position_ids = torch.arange(\n",
    "            self.padding_idx + 1, sequence_length + self.padding_idx + 1, dtype=torch.long, device=inputs_embeds.device\n",
    "        )\n",
    "        return position_ids.unsqueeze(0).expand(input_shape)\n",
    "\n"
   ]
  },
  {
   "cell_type": "code",
   "execution_count": 9,
   "metadata": {},
   "outputs": [],
   "source": [
    "# RoPE implementation\n",
    "class RotaryEmbedding(torch.nn.Module):\n",
    "    \"\"\"\n",
    "    Rotary position embeddings based on those in\n",
    "    [RoFormer](https://huggingface.co/docs/transformers/model_doc/roformer). Query and keys are transformed by rotation\n",
    "    matrices which depend on their relative positions.\n",
    "    \"\"\"\n",
    "\n",
    "    def __init__(self, dim: int):\n",
    "        super().__init__()\n",
    "        # Generate and save the inverse frequency buffer (non trainable)\n",
    "        inv_freq = 1.0 / (10000 ** (torch.arange(0, dim, 2, dtype=torch.int64).float() / dim))\n",
    "        inv_freq = inv_freq\n",
    "        self.register_buffer(\"inv_freq\", inv_freq)\n",
    "\n",
    "        self._seq_len_cached = None\n",
    "        self._cos_cached = None\n",
    "        self._sin_cached = None\n",
    "\n",
    "    def _update_cos_sin_tables(self, x, seq_dimension=2):\n",
    "        seq_len = x.shape[seq_dimension]\n",
    "\n",
    "        # Reset the tables if the sequence length has changed,\n",
    "        # or if we're on a new device (possibly due to tracing for instance)\n",
    "        if seq_len != self._seq_len_cached or self._cos_cached.device != x.device:\n",
    "            self._seq_len_cached = seq_len\n",
    "            t = torch.arange(x.shape[seq_dimension], device=x.device).type_as(self.inv_freq)\n",
    "            freqs = torch.outer(t, self.inv_freq)\n",
    "            emb = torch.cat((freqs, freqs), dim=-1).to(x.device)\n",
    "\n",
    "            self._cos_cached = emb.cos()[None, None, :, :]\n",
    "            self._sin_cached = emb.sin()[None, None, :, :]\n",
    "\n",
    "        return self._cos_cached, self._sin_cached\n",
    "\n",
    "    def forward(self, q: torch.Tensor, k: torch.Tensor) -> Tuple[torch.Tensor, torch.Tensor]:\n",
    "        self._cos_cached, self._sin_cached = self._update_cos_sin_tables(k, seq_dimension=-2)\n",
    "\n",
    "        return (\n",
    "            apply_rotary_pos_emb(q, self._cos_cached, self._sin_cached),\n",
    "            apply_rotary_pos_emb(k, self._cos_cached, self._sin_cached),\n",
    "        )\n",
    "\n"
   ]
  },
  {
   "cell_type": "code",
   "execution_count": 10,
   "metadata": {
    "jupyter": {
     "source_hidden": true
    }
   },
   "outputs": [],
   "source": [
    "# ESM Encoder Class\n",
    "\n",
    "class EsmEncoder(nn.Module):\n",
    "    def __init__(self, config):\n",
    "        super().__init__()\n",
    "        self.config = config\n",
    "        self.layer = nn.ModuleList([EsmLayer(config) for _ in range(config.num_hidden_layers)])\n",
    "        self.emb_layer_norm_after = nn.LayerNorm(config.hidden_size, eps=config.layer_norm_eps)\n",
    "        self.gradient_checkpointing = False\n",
    "\n",
    "    def forward(\n",
    "        self,\n",
    "        hidden_states,\n",
    "        attention_mask=None,\n",
    "        head_mask=None,\n",
    "        encoder_hidden_states=None,\n",
    "        encoder_attention_mask=None,\n",
    "        past_key_values=None,\n",
    "        use_cache=None,\n",
    "        output_attentions=False,\n",
    "        output_hidden_states=False,\n",
    "        return_dict=True,\n",
    "    ):\n",
    "\n",
    "        if self.gradient_checkpointing and self.training:\n",
    "            \n",
    "            if use_cache:\n",
    "                logger.warning_once(\n",
    "                    \"`use_cache=True` is incompatible with `config.gradient_checkpointing=True`. Setting \"\n",
    "                    \"`use_cache=False`...\"\n",
    "                )\n",
    "                use_cache = False\n",
    "        all_hidden_states = () if output_hidden_states else None\n",
    "        #all_self_attentions = () if output_attentions else None\n",
    "        all_self_attentions = 0\n",
    "        all_cross_attentions = () if output_attentions and self.config.add_cross_attention else None\n",
    "\n",
    "        next_decoder_cache = () if use_cache else None\n",
    "        l={}\n",
    "        for i, layer_module in enumerate(self.layer):\n",
    "            if output_hidden_states:\n",
    "                all_hidden_states = all_hidden_states + (hidden_states,)\n",
    "\n",
    "            layer_head_mask = head_mask[i] if head_mask is not None else None\n",
    "            past_key_value = past_key_values[i] if past_key_values is not None else None\n",
    "\n",
    "            if self.gradient_checkpointing and self.training:\n",
    "                layer_outputs = self._gradient_checkpointing_func(\n",
    "                    layer_module.__call__,\n",
    "                    hidden_states,\n",
    "                    attention_mask,\n",
    "                    layer_head_mask,\n",
    "                    encoder_hidden_states,\n",
    "                    encoder_attention_mask,\n",
    "                    past_key_value,\n",
    "                    output_attentions,\n",
    "                )\n",
    "            else:\n",
    "                layer_outputs = layer_module(\n",
    "                    hidden_states,\n",
    "                    attention_mask,\n",
    "                    layer_head_mask,\n",
    "                    encoder_hidden_states,\n",
    "                    encoder_attention_mask,\n",
    "                    past_key_value,\n",
    "                    output_attentions,\n",
    "                )\n",
    "            hidden_states = layer_outputs[0]\n",
    "\n",
    "            if use_cache:\n",
    "                next_decoder_cache = next_decoder_cache + (layer_outputs[-1],)\n",
    "                \n",
    "            if output_attentions:\n",
    "                temp_weights = self.weights[0][i*20:(i+1)*20]\n",
    "                temp_att = layer_outputs[-1] * temp_weights.view(20, 1, 1)\n",
    "                temp_att_2 = temp_att.sum(dim=1, keepdim=True)\n",
    "                del temp_att\n",
    "                \n",
    "                if i == 0 : \n",
    "                    all_self_attentions = temp_att_2 # + (layer_outputs[-1],)\n",
    "                else : \n",
    "                    all_self_attentions = all_self_attentions + temp_att_2\n",
    "\n",
    "                if self.config.add_cross_attention:\n",
    "                    all_cross_attentions = all_cross_attentions + (layer_outputs[2],)\n",
    "                del temp_att_2\n",
    "\n",
    "        if self.emb_layer_norm_after:\n",
    "            hidden_states = self.emb_layer_norm_after(hidden_states)\n",
    "\n",
    "        if output_hidden_states:\n",
    "            all_hidden_states = all_hidden_states + (hidden_states,)\n",
    "\n",
    "        if not return_dict:\n",
    "            print('not return dict')\n",
    "            return tuple(\n",
    "                v\n",
    "                for v in [\n",
    "                    hidden_states,\n",
    "                    next_decoder_cache,\n",
    "                    all_hidden_states,\n",
    "                    all_self_attentions,\n",
    "                    all_cross_attentions,\n",
    "                ]\n",
    "                if v is not None\n",
    "            )\n",
    "\n",
    "        return BaseModelOutputWithPastAndCrossAttentions(\n",
    "            last_hidden_state=hidden_states,\n",
    "            past_key_values=next_decoder_cache,\n",
    "            hidden_states=all_hidden_states,\n",
    "            attentions=all_self_attentions,\n",
    "            cross_attentions=all_cross_attentions,\n",
    "        )\n",
    "\n"
   ]
  },
  {
   "cell_type": "code",
   "execution_count": 11,
   "metadata": {
    "jupyter": {
     "source_hidden": true
    }
   },
   "outputs": [],
   "source": [
    "# ESM Layer Class\n",
    "\n",
    "class EsmLayer(nn.Module):\n",
    "    def __init__(self, config):\n",
    "        super().__init__()\n",
    "        self.chunk_size_feed_forward = 4000\n",
    "        self.seq_len_dim = 1\n",
    "        self.attention = EsmAttention(config)\n",
    "        self.is_decoder = config.is_decoder\n",
    "        self.add_cross_attention = config.add_cross_attention\n",
    "        if self.add_cross_attention:\n",
    "            if not self.is_decoder:\n",
    "                raise RuntimeError(f\"{self} should be used as a decoder model if cross attention is added\")\n",
    "            self.crossattention = EsmAttention(config)\n",
    "        self.intermediate = EsmIntermediate(config)\n",
    "        self.output = EsmOutput(config)\n",
    "        self.LayerNorm = nn.LayerNorm(config.hidden_size, eps=config.layer_norm_eps)\n",
    "\n",
    "    def forward(\n",
    "        self,\n",
    "        hidden_states,\n",
    "        attention_mask=None,\n",
    "        head_mask=None,\n",
    "        encoder_hidden_states=None,\n",
    "        encoder_attention_mask=None,\n",
    "        past_key_value=None,\n",
    "        output_attentions=False,\n",
    "    ):  \n",
    "        # decoder uni-directional self-attention cached key/values tuple is at positions 1,2\n",
    "        self_attn_past_key_value = past_key_value[:2] if past_key_value is not None else None\n",
    "        self_attention_outputs = self.attention(\n",
    "            hidden_states,\n",
    "            attention_mask,\n",
    "            head_mask,\n",
    "            output_attentions=output_attentions,\n",
    "            past_key_value=self_attn_past_key_value,\n",
    "        )\n",
    "\n",
    "        attention_output = self_attention_outputs[0]\n",
    "\n",
    "        # if decoder, the last output is tuple of self-attn cache\n",
    "        if self.is_decoder:\n",
    "            outputs = self_attention_outputs[1:-1]\n",
    "            present_key_value = self_attention_outputs[-1]\n",
    "        else:\n",
    "            outputs = self_attention_outputs[1:]  # add self attentions if we output attention weights\n",
    "\n",
    "        cross_attn_present_key_value = None\n",
    "        if self.is_decoder and encoder_hidden_states is not None:\n",
    "            if not hasattr(self, \"crossattention\"):\n",
    "                raise AttributeError(\n",
    "                    f\"If `encoder_hidden_states` are passed, {self} has to be instantiated\"\n",
    "                    \" with cross-attention layers by setting `config.add_cross_attention=True`\"\n",
    "                )\n",
    "\n",
    "            # cross_attn cached key/values tuple is at positions 3,4 of past_key_value tuple\n",
    "            cross_attn_past_key_value = past_key_value[-2:] if past_key_value is not None else None\n",
    "            cross_attention_outputs = self.crossattention(\n",
    "                attention_output,\n",
    "                attention_mask,\n",
    "                head_mask,\n",
    "                encoder_hidden_states,\n",
    "                encoder_attention_mask,\n",
    "                cross_attn_past_key_value,\n",
    "                output_attentions,\n",
    "            )\n",
    "            attention_output = cross_attention_outputs[0]\n",
    "            outputs = outputs + cross_attention_outputs[1:-1]  # add cross attentions if we output attention weights\n",
    "\n",
    "            # add cross-attn cache to positions 3,4 of present_key_value tuple\n",
    "            cross_attn_present_key_value = cross_attention_outputs[-1]\n",
    "            present_key_value = present_key_value + cross_attn_present_key_value\n",
    "\n",
    "        attention_output = self.feed_forward_chunk(attention_output)\n",
    "\n",
    "        outputs = (attention_output,) + outputs\n",
    "\n",
    "        # if decoder, return the attn key/values as the last output\n",
    "        if self.is_decoder:\n",
    "            outputs = outputs + (present_key_value,)\n",
    "\n",
    "        return outputs\n",
    "\n",
    "    def feed_forward_chunk(self, attention_output):\n",
    "\n",
    "        layer_output = self.output(self.intermediate(self.LayerNorm(attention_output)), attention_output)\n",
    "        del attention_output\n",
    "\n",
    "        torch.cuda.empty_cache()\n",
    "\n",
    "        return layer_output\n",
    "\n",
    "    def feed_forward_chunk_implemented(self, attention_output):\n",
    "        batch_size, seq_len, hidden_dim = attention_output.size()\n",
    "        chunks = torch.split(attention_output, self.chunk_size_feed_forward, dim=self.seq_len_dim)\n",
    "        layer_output = []\n",
    "        for chunk in chunks:\n",
    "            chunk_output = self.output(self.intermediate(self.LayerNorm(chunk)), chunk)\n",
    "            layer_output.append(chunk_output)\n",
    "        layer_output = torch.cat(layer_output, dim=self.seq_len_dim)\n",
    "        del attention_output\n",
    "        torch.cuda.empty_cache()\n",
    "        return layer_output\n",
    "\n"
   ]
  },
  {
   "cell_type": "code",
   "execution_count": 12,
   "metadata": {
    "jupyter": {
     "source_hidden": true
    }
   },
   "outputs": [],
   "source": [
    "# ESM Attention Class (self attention call)\n",
    "\n",
    "class EsmAttention(nn.Module):\n",
    "    def __init__(self, config):\n",
    "        super().__init__()\n",
    "        self.self = EsmSelfAttention(config)\n",
    "        self.output = EsmSelfOutput(config)\n",
    "        self.pruned_heads = set()\n",
    "        self.LayerNorm = nn.LayerNorm(config.hidden_size, eps=config.layer_norm_eps)\n",
    "\n",
    "    def prune_heads(self, heads):\n",
    "        if len(heads) == 0:\n",
    "            return\n",
    "        heads, index = find_pruneable_heads_and_indices(\n",
    "            heads, self.self.num_attention_heads, self.self.attention_head_size, self.pruned_heads\n",
    "        )\n",
    "\n",
    "        # Prune linear layers\n",
    "        self.self.query = prune_linear_layer(self.self.query, index)\n",
    "        self.self.key = prune_linear_layer(self.self.key, index)\n",
    "        self.self.value = prune_linear_layer(self.self.value, index)\n",
    "        self.output.dense = prune_linear_layer(self.output.dense, index, dim=1)\n",
    "\n",
    "        # Update hyper params and store pruned heads\n",
    "        self.self.num_attention_heads = self.self.num_attention_heads - len(heads)\n",
    "        self.self.all_head_size = self.self.attention_head_size * self.self.num_attention_heads\n",
    "        self.pruned_heads = self.pruned_heads.union(heads)\n",
    "\n",
    "    def forward(\n",
    "        self,\n",
    "        hidden_states,\n",
    "        attention_mask=None,\n",
    "        head_mask=None,\n",
    "        encoder_hidden_states=None,\n",
    "        encoder_attention_mask=None,\n",
    "        past_key_value=None,\n",
    "        output_attentions=False,\n",
    "    ):\n",
    "        hidden_states_ln = self.LayerNorm(hidden_states)\n",
    "        self_outputs = self.self(\n",
    "            hidden_states_ln,\n",
    "            attention_mask,\n",
    "            head_mask,\n",
    "            encoder_hidden_states,\n",
    "            encoder_attention_mask,\n",
    "            past_key_value,\n",
    "            output_attentions,\n",
    "        )\n",
    "        attention_output = self.output(self_outputs[0], hidden_states)\n",
    "        outputs = (attention_output,) + self_outputs[1:]  # add attentions if we output them\n",
    "        return outputs\n",
    "\n"
   ]
  },
  {
   "cell_type": "code",
   "execution_count": 13,
   "metadata": {
    "jupyter": {
     "source_hidden": true
    }
   },
   "outputs": [],
   "source": [
    "# -> ESM Self Attention + Self Output classes\n",
    "\n",
    "class EsmSelfAttention(nn.Module):\n",
    "    def __init__(self, config, position_embedding_type=None):\n",
    "        super().__init__()\n",
    "        if config.hidden_size % config.num_attention_heads != 0 and not hasattr(config, \"embedding_size\"):\n",
    "            raise ValueError(\n",
    "                f\"The hidden size ({config.hidden_size}) is not a multiple of the number of attention \"\n",
    "                f\"heads ({config.num_attention_heads})\"\n",
    "            )\n",
    "\n",
    "        self.num_attention_heads = config.num_attention_heads\n",
    "        self.attention_head_size = int(config.hidden_size / config.num_attention_heads)\n",
    "        self.all_head_size = self.num_attention_heads * self.attention_head_size\n",
    "\n",
    "        self.query = nn.Linear(config.hidden_size, self.all_head_size)\n",
    "        self.key = nn.Linear(config.hidden_size, self.all_head_size)\n",
    "        self.value = nn.Linear(config.hidden_size, self.all_head_size)\n",
    "\n",
    "        self.dropout = nn.Dropout(config.attention_probs_dropout_prob)\n",
    "        self.position_embedding_type = position_embedding_type or getattr(\n",
    "            config, \"position_embedding_type\", \"absolute\"\n",
    "        )\n",
    "        self.rotary_embeddings = None\n",
    "\n",
    "        if self.position_embedding_type == \"relative_key\" or self.position_embedding_type == \"relative_key_query\":\n",
    "            self.max_position_embeddings = config.max_position_embeddings\n",
    "            self.distance_embedding = nn.Embedding(2 * config.max_position_embeddings - 1, self.attention_head_size)\n",
    "        elif self.position_embedding_type == \"rotary\":\n",
    "            self.rotary_embeddings = RotaryEmbedding(dim=self.attention_head_size)\n",
    "\n",
    "        self.is_decoder = config.is_decoder\n",
    "\n",
    "    def alibi_slopes(self, n_heads):\n",
    "        \"\"\"\n",
    "        Attention head slope for Alibi Positional Encoding\n",
    "        \"\"\"\n",
    "        n = 2 ** math.floor(math.log2(n_heads))\n",
    "        m_0 = 2.0 ** (-8.0 / n)\n",
    "        m = torch.pow(m_0, torch.arange(1, 1 + n))\n",
    "        if n < n_heads:\n",
    "            m_hat_0 = 2.0 ** (-4.0 / n)\n",
    "            m_hat = torch.pow(m_hat_0, torch.arange(1, 1 + 2 * (n_heads - n), 2))\n",
    "            m = torch.cat([m, m_hat])\n",
    "        # m = torch.Size(20), tensor of slopes for each attention head. \n",
    "        return(m)\n",
    "\n",
    "    def alibi_mask(self, n, p):\n",
    "        \"\"\"\n",
    "        Attention mask for Alibi Positional Encoding\n",
    "        \"\"\"\n",
    "        tensor = torch.zeros((n, n))\n",
    "        for i in range(n):\n",
    "            for j in range(n):\n",
    "                if i != j:\n",
    "                    tensor[i, j] = -p * abs(i - j)\n",
    "        return tensor\n",
    "\n",
    "    def transpose_for_scores(self, x: torch.Tensor) -> torch.Tensor:\n",
    "        \"\"\"\n",
    "        (batch_size, seq_length, hidden_dim) -> (batch_size, num_heads, seq_length, head_size)\n",
    "        \"\"\"\n",
    "        new_x_shape = x.size()[:-1] + (self.num_attention_heads, self.attention_head_size)\n",
    "        x = x.view(new_x_shape)\n",
    "        return x.permute(0, 2, 1, 3)\n",
    "\n",
    "    def forward(\n",
    "        self,\n",
    "        hidden_states: torch.Tensor,\n",
    "        attention_mask: Optional[torch.FloatTensor] = None,\n",
    "        head_mask: Optional[torch.FloatTensor] = None,\n",
    "        encoder_hidden_states: Optional[torch.FloatTensor] = None,\n",
    "        encoder_attention_mask: Optional[torch.FloatTensor] = None,\n",
    "        past_key_value: Optional[Tuple[Tuple[torch.FloatTensor]]] = None,\n",
    "        output_attentions: Optional[bool] = False,\n",
    "    ) -> Tuple[torch.Tensor]:\n",
    "        \n",
    "        # Input = hidden_states = torch.Size(batch_size, seq_lenght, hidden_dim)\n",
    "\n",
    "        # Linear QKV Layers\n",
    "        mixed_query_layer = self.query(hidden_states)\n",
    "        is_cross_attention = encoder_hidden_states is not None\n",
    "        if is_cross_attention and past_key_value is not None:\n",
    "            # reuse k,v, cross_attentions\n",
    "            key_layer = past_key_value[0]\n",
    "            value_layer = past_key_value[1]\n",
    "            attention_mask = encoder_attention_mask\n",
    "        elif is_cross_attention:\n",
    "            key_layer = self.transpose_for_scores(self.key(encoder_hidden_states))\n",
    "            value_layer = self.transpose_for_scores(self.value(encoder_hidden_states))\n",
    "            attention_mask = encoder_attention_mask\n",
    "        elif past_key_value is not None:\n",
    "            key_layer = self.transpose_for_scores(self.key(hidden_states))\n",
    "            value_layer = self.transpose_for_scores(self.value(hidden_states))\n",
    "            key_layer = torch.cat([past_key_value[0], key_layer], dim=2)\n",
    "            value_layer = torch.cat([past_key_value[1], value_layer], dim=2)\n",
    "        else:\n",
    "            key_layer = self.transpose_for_scores(self.key(hidden_states))\n",
    "            value_layer = self.transpose_for_scores(self.value(hidden_states))\n",
    "        query_layer = self.transpose_for_scores(mixed_query_layer)\n",
    "        \n",
    "        # QKV = torch.Size(batch_size, num_heads, seq_length, head_size)\n",
    "\n",
    "        query_layer = query_layer * self.attention_head_size**-0.5   # Scaling Query tensor\n",
    "\n",
    "        if self.is_decoder:\n",
    "            past_key_value = (key_layer, value_layer)\n",
    "            \n",
    "        # RoPE positional encoding. \n",
    "        if self.position_embedding_type == \"rotary\":\n",
    "            query_layer, key_layer = self.rotary_embeddings(query_layer, key_layer)\n",
    "\n",
    "        # Attention score (mm between Q & K)\n",
    "        attention_scores = torch.matmul(query_layer, key_layer.transpose(-1, -2))\n",
    "        # attention_scores = torch.Size(batch_size, num_heads, seq_length, seq_length)\n",
    "        seq_length = hidden_states.size()[1]\n",
    "        batch_size = hidden_states.size()[0]\n",
    "\n",
    "        # Alibi positional encoding\n",
    "        if self.position_embedding_type == \"alibi\":\n",
    "            maxpos = seq_length\n",
    "            self.slopes = torch.Tensor(self.alibi_slopes(self.num_attention_heads))\n",
    "            self.alibi_list = [self.alibi_mask(seq_length, p.item()).unsqueeze(0) for p in self.slopes]\n",
    "            self.alibi = torch.cat(self.alibi_list, dim = 0)\n",
    "            attention_mask = self.alibi.unsqueeze(0).repeat(batch_size, 1, 1, 1)\n",
    "            # self.alibi = torch.Size(batch_size, num_heads, seq_length, seq_length)\n",
    "\n",
    "        if self.position_embedding_type == \"relative_key\" or self.position_embedding_type == \"relative_key_query\":\n",
    "            seq_length = hidden_states.size()[1]\n",
    "            position_ids_l = torch.arange(seq_length, dtype=torch.long, device=hidden_states.device).view(-1, 1)\n",
    "            position_ids_r = torch.arange(seq_length, dtype=torch.long, device=hidden_states.device).view(1, -1)\n",
    "            distance = position_ids_l - position_ids_r\n",
    "            positional_embedding = self.distance_embedding(distance + self.max_position_embeddings - 1)\n",
    "            positional_embedding = positional_embedding.to(dtype=query_layer.dtype)  # fp16 compatibility\n",
    "\n",
    "            if self.position_embedding_type == \"relative_key\":\n",
    "                relative_position_scores = torch.einsum(\"bhld,lrd->bhlr\", query_layer, positional_embedding)\n",
    "                attention_scores = attention_scores + relative_position_scores\n",
    "            elif self.position_embedding_type == \"relative_key_query\":\n",
    "                relative_position_scores_query = torch.einsum(\"bhld,lrd->bhlr\", query_layer, positional_embedding)\n",
    "                relative_position_scores_key = torch.einsum(\"bhrd,lrd->bhlr\", key_layer, positional_embedding)\n",
    "                attention_scores = attention_scores + relative_position_scores_query + relative_position_scores_key\n",
    "\n",
    "        if attention_mask is not None:\n",
    "            attention_mask = attention_mask.to(attention_scores.device)\n",
    "            attention_scores = attention_scores + attention_mask\n",
    "\n",
    "\n",
    "        attention_probs = nn.functional.softmax(attention_scores, dim=-1)\n",
    "        attention_probs = self.dropout(attention_probs)\n",
    "\n",
    "        # Mask heads if we want to\n",
    "        if head_mask is not None:\n",
    "            attention_probs = attention_probs * head_mask\n",
    "\n",
    "        context_layer = torch.matmul(attention_probs.to(value_layer.dtype), value_layer)\n",
    "\n",
    "        context_layer = context_layer.permute(0, 2, 1, 3).contiguous()\n",
    "        new_context_layer_shape = context_layer.size()[:-2] + (self.all_head_size,)\n",
    "        context_layer = context_layer.view(new_context_layer_shape)\n",
    "\n",
    "        outputs = (context_layer, attention_probs) if output_attentions else (context_layer,)\n",
    "\n",
    "        if self.is_decoder:\n",
    "            outputs = outputs + (past_key_value,)\n",
    "        return outputs\n",
    "\n",
    "\n",
    "class EsmSelfOutput(nn.Module):\n",
    "    def __init__(self, config):\n",
    "        super().__init__()\n",
    "        self.dense = nn.Linear(config.hidden_size, config.hidden_size)\n",
    "        self.dropout = nn.Dropout(config.hidden_dropout_prob)\n",
    "\n",
    "    def forward(self, hidden_states, input_tensor):\n",
    "        hidden_states = self.dense(hidden_states)\n",
    "        hidden_states = self.dropout(hidden_states)\n",
    "        hidden_states = hidden_states + input_tensor\n",
    "        return hidden_states"
   ]
  },
  {
   "cell_type": "code",
   "execution_count": 14,
   "metadata": {
    "jupyter": {
     "source_hidden": true
    }
   },
   "outputs": [],
   "source": [
    "# ESM Intermediate & Output classes for Layer\n",
    "\n",
    "class EsmIntermediate(nn.Module):\n",
    "    def __init__(self, config):\n",
    "        super().__init__()\n",
    "        self.dense = nn.Linear(config.hidden_size, config.intermediate_size)\n",
    "\n",
    "    def forward(self, hidden_states: torch.Tensor) -> torch.Tensor:\n",
    "        hidden_states = self.dense(hidden_states)\n",
    "        #hidden_states = gelu(hidden_states)\n",
    "        hidden_states = torch.nn.functional.gelu(hidden_states)\n",
    "        return hidden_states\n",
    "\n",
    "\n",
    "class EsmOutput(nn.Module):\n",
    "    def __init__(self, config):\n",
    "        super().__init__()\n",
    "        self.dense = nn.Linear(config.intermediate_size, config.hidden_size)\n",
    "        self.dropout = nn.Dropout(config.hidden_dropout_prob, inplace=True)\n",
    "\n",
    "    def forward(self, hidden_states, input_tensor):\n",
    "        hidden_states = self.dense(hidden_states)\n",
    "        hidden_states = self.dropout(hidden_states)\n",
    "        hidden_states += input_tensor\n",
    "        return hidden_states\n",
    "\n"
   ]
  },
  {
   "cell_type": "code",
   "execution_count": 15,
   "metadata": {
    "jupyter": {
     "source_hidden": true
    }
   },
   "outputs": [],
   "source": [
    "# ESM Pooling class\n",
    "\n",
    "class EsmPooler(nn.Module):\n",
    "    def __init__(self, config):\n",
    "        super().__init__()\n",
    "        self.dense = nn.Linear(config.hidden_size, config.hidden_size)\n",
    "        self.activation = nn.Tanh()\n",
    "\n",
    "    def forward(self, hidden_states: torch.Tensor) -> torch.Tensor:\n",
    "        # We \"pool\" the model by simply taking the hidden state corresponding\n",
    "        # to the first token.\n",
    "        first_token_tensor = hidden_states[:, 0]\n",
    "        pooled_output = self.dense(first_token_tensor)\n",
    "        pooled_output = self.activation(pooled_output)\n",
    "        return pooled_output\n"
   ]
  },
  {
   "cell_type": "code",
   "execution_count": 16,
   "metadata": {
    "jupyter": {
     "source_hidden": true
    }
   },
   "outputs": [],
   "source": [
    "# ESM Position ids function\n",
    "def create_position_ids_from_input_ids(input_ids, padding_idx, past_key_values_length=0):\n",
    "    \"\"\"\n",
    "    Replace non-padding symbols with their position numbers. Position numbers begin at padding_idx+1. Padding symbols\n",
    "    are ignored. This is modified from fairseq's `utils.make_positions`.\n",
    "\n",
    "    Args:\n",
    "        x: torch.Tensor x:\n",
    "\n",
    "    Returns: torch.Tensor\n",
    "    \"\"\"\n",
    "    # The series of casts and type-conversions here are carefully balanced to both work with ONNX export and XLA.\n",
    "    mask = input_ids.ne(padding_idx).int()\n",
    "    incremental_indices = (torch.cumsum(mask, dim=1).type_as(mask) + past_key_values_length) * mask\n",
    "    return incremental_indices.long() + padding_idx\n"
   ]
  },
  {
   "cell_type": "code",
   "execution_count": 22,
   "metadata": {
    "jupyter": {
     "source_hidden": true
    }
   },
   "outputs": [
    {
     "name": "stdout",
     "output_type": "stream",
     "text": [
      "Sequence ENA_AB605730_AB605730_1_55609_55788_128, length = 59\n",
      "['ENA_AB605730_AB605730_1_55609_55788_128'] ['MTTIKMNNGDVFYSKLNAEQFRSQVNGANNGGKAIIEAFKDTGFTDREFINLNLVSSFK'] tensor([[ 0, 20, 11, 11, 12, 15, 20, 17, 17,  6, 13,  7, 18, 19,  8, 15,  4, 17,\n",
      "          5,  9, 16, 18, 10,  8, 16,  7, 17,  6,  5, 17, 17,  6,  6, 15,  5, 12,\n",
      "         12,  9,  5, 18, 15, 13, 11,  6, 18, 11, 13, 10,  9, 18, 12, 17,  4, 17,\n",
      "          4,  7,  8,  8, 18, 15,  2]])\n"
     ]
    },
    {
     "data": {
      "text/plain": [
       "61"
      ]
     },
     "execution_count": 22,
     "metadata": {},
     "output_type": "execute_result"
    }
   ],
   "source": [
    "example_sequence = [('ENA_AB605730_AB605730_1_55609_55788_128','MTTIKMNNGDVFYSKLNAEQFRSQVNGANNGGKAIIEAFKDTGFTDREFINLNLVSSFK')]\n",
    "print(f\"Sequence {example_sequence[0][0]}, length = {len(example_sequence[0][1])}\")\n",
    "batch_labels, batch_strs, batch_tokens = batch_converter(example_sequence)\n",
    "print(batch_labels, batch_strs, batch_tokens)\n",
    "len(batch_tokens[0])"
   ]
  },
  {
   "cell_type": "code",
   "execution_count": 18,
   "metadata": {},
   "outputs": [
    {
     "name": "stdout",
     "output_type": "stream",
     "text": [
      "EsmForTokenClassification(\n",
      "  (esm): EsmModel(\n",
      "    (embeddings): EsmEmbeddings(\n",
      "      (word_embeddings): Embedding(33, 1280, padding_idx=1)\n",
      "      (dropout): Dropout(p=0.1, inplace=False)\n",
      "      (position_embeddings): Embedding(1026, 1280, padding_idx=1)\n",
      "    )\n",
      "    (encoder): EsmEncoder(\n",
      "      (layer): ModuleList(\n",
      "        (0-32): 33 x EsmLayer(\n",
      "          (attention): EsmAttention(\n",
      "            (self): EsmSelfAttention(\n",
      "              (query): Linear(in_features=1280, out_features=1280, bias=True)\n",
      "              (key): Linear(in_features=1280, out_features=1280, bias=True)\n",
      "              (value): Linear(in_features=1280, out_features=1280, bias=True)\n",
      "              (dropout): Dropout(p=0.1, inplace=False)\n",
      "              (rotary_embeddings): RotaryEmbedding()\n",
      "            )\n",
      "            (output): EsmSelfOutput(\n",
      "              (dense): Linear(in_features=1280, out_features=1280, bias=True)\n",
      "              (dropout): Dropout(p=0.1, inplace=False)\n",
      "            )\n",
      "            (LayerNorm): LayerNorm((1280,), eps=1e-12, elementwise_affine=True)\n",
      "          )\n",
      "          (intermediate): EsmIntermediate(\n",
      "            (dense): Linear(in_features=1280, out_features=5120, bias=True)\n",
      "          )\n",
      "          (output): EsmOutput(\n",
      "            (dense): Linear(in_features=5120, out_features=1280, bias=True)\n",
      "            (dropout): Dropout(p=0.1, inplace=True)\n",
      "          )\n",
      "          (LayerNorm): LayerNorm((1280,), eps=1e-12, elementwise_affine=True)\n",
      "        )\n",
      "      )\n",
      "      (emb_layer_norm_after): LayerNorm((1280,), eps=1e-12, elementwise_affine=True)\n",
      "    )\n",
      "    (contact_head): EsmContactPredictionHead(\n",
      "      (regression): Linear(in_features=660, out_features=1, bias=True)\n",
      "      (activation): Sigmoid()\n",
      "    )\n",
      "  )\n",
      "  (dropout): Dropout(p=0.1, inplace=False)\n",
      "  (classifier): Linear(in_features=1280, out_features=2, bias=True)\n",
      ")\n"
     ]
    }
   ],
   "source": [
    "config = EsmConfig()\n",
    "model = EsmForTokenClassification(config=config)\n",
    "print(model)"
   ]
  },
  {
   "cell_type": "code",
   "execution_count": 25,
   "metadata": {},
   "outputs": [
    {
     "data": {
      "text/plain": [
       "Embedding(33, 1280, padding_idx=1)"
      ]
     },
     "execution_count": 25,
     "metadata": {},
     "output_type": "execute_result"
    }
   ],
   "source": [
    "model.esm.embeddings.word_embeddings"
   ]
  },
  {
   "cell_type": "code",
   "execution_count": 26,
   "metadata": {},
   "outputs": [
    {
     "data": {
      "text/plain": [
       "tensor([[[ 0.0297,  0.0095,  0.0065,  ...,  0.0008, -0.0178, -0.0072],\n",
       "         [ 0.0038,  0.0174, -0.0129,  ..., -0.0267,  0.0003, -0.0165],\n",
       "         [-0.0064, -0.0232,  0.0391,  ...,  0.0208, -0.0027, -0.0044],\n",
       "         ...,\n",
       "         [-0.0351,  0.0294,  0.0019,  ...,  0.0006, -0.0081, -0.0190],\n",
       "         [ 0.0129, -0.0090,  0.0194,  ..., -0.0052, -0.0286,  0.0132],\n",
       "         [ 0.0182, -0.0056,  0.0142,  ..., -0.0135, -0.0033,  0.0088]]],\n",
       "       grad_fn=<EmbeddingBackward0>)"
      ]
     },
     "execution_count": 26,
     "metadata": {},
     "output_type": "execute_result"
    }
   ],
   "source": [
    "model.esm.embeddings.word_embeddings.forward(batch_tokens)"
   ]
  },
  {
   "cell_type": "code",
   "execution_count": 28,
   "metadata": {},
   "outputs": [
    {
     "data": {
      "text/plain": [
       "torch.Size([1, 61, 1280])"
      ]
     },
     "execution_count": 28,
     "metadata": {},
     "output_type": "execute_result"
    }
   ],
   "source": [
    "model.esm.embeddings.word_embeddings.forward(batch_tokens).size()"
   ]
  },
  {
   "cell_type": "code",
   "execution_count": 19,
   "metadata": {
    "jupyter": {
     "source_hidden": true
    }
   },
   "outputs": [],
   "source": [
    "embeddings = model(batch_tokens)"
   ]
  },
  {
   "cell_type": "code",
   "execution_count": null,
   "metadata": {
    "jupyter": {
     "source_hidden": true
    }
   },
   "outputs": [],
   "source": [
    "print(embeddings.logits.shape)"
   ]
  },
  {
   "cell_type": "markdown",
   "metadata": {
    "jupyter": {
     "source_hidden": true
    }
   },
   "source": [
    "### Notes: \n",
    "- The (position_embeddings) layer is not use because we use ROPE instead.\n",
    "  - trained matrix that systematically returns a unique vector of size 1280 for each positon in [0,1026]\n",
    "\n"
   ]
  },
  {
   "cell_type": "code",
   "execution_count": 42,
   "metadata": {
    "jupyter": {
     "source_hidden": true
    }
   },
   "outputs": [
    {
     "data": {
      "text/plain": [
       "torch.Size([2, 1280])"
      ]
     },
     "execution_count": 42,
     "metadata": {},
     "output_type": "execute_result"
    }
   ],
   "source": [
    "model.esm.embeddings.position_embeddings.forward(torch.tensor([0, 10])).shape"
   ]
  },
  {
   "cell_type": "code",
   "execution_count": null,
   "metadata": {
    "jupyter": {
     "source_hidden": true
    }
   },
   "outputs": [],
   "source": [
    "model.esm.embeddings.position_embeddings.forward(torch.tensor([0, 10])).shape"
   ]
  },
  {
   "cell_type": "markdown",
   "metadata": {
    "jupyter": {
     "source_hidden": true
    }
   },
   "source": [
    "### the  EsmEncoder "
   ]
  },
  {
   "cell_type": "code",
   "execution_count": 46,
   "metadata": {
    "jupyter": {
     "source_hidden": true
    }
   },
   "outputs": [
    {
     "data": {
      "text/plain": [
       "EsmEncoder(\n",
       "  (layer): ModuleList(\n",
       "    (0-32): 33 x EsmLayer(\n",
       "      (attention): EsmAttention(\n",
       "        (self): EsmSelfAttention(\n",
       "          (query): Linear(in_features=1280, out_features=1280, bias=True)\n",
       "          (key): Linear(in_features=1280, out_features=1280, bias=True)\n",
       "          (value): Linear(in_features=1280, out_features=1280, bias=True)\n",
       "          (dropout): Dropout(p=0.1, inplace=False)\n",
       "          (rotary_embeddings): RotaryEmbedding()\n",
       "        )\n",
       "        (output): EsmSelfOutput(\n",
       "          (dense): Linear(in_features=1280, out_features=1280, bias=True)\n",
       "          (dropout): Dropout(p=0.1, inplace=False)\n",
       "        )\n",
       "        (LayerNorm): LayerNorm((1280,), eps=1e-12, elementwise_affine=True)\n",
       "      )\n",
       "      (intermediate): EsmIntermediate(\n",
       "        (dense): Linear(in_features=1280, out_features=5120, bias=True)\n",
       "      )\n",
       "      (output): EsmOutput(\n",
       "        (dense): Linear(in_features=5120, out_features=1280, bias=True)\n",
       "        (dropout): Dropout(p=0.1, inplace=True)\n",
       "      )\n",
       "      (LayerNorm): LayerNorm((1280,), eps=1e-12, elementwise_affine=True)\n",
       "    )\n",
       "  )\n",
       "  (emb_layer_norm_after): LayerNorm((1280,), eps=1e-12, elementwise_affine=True)\n",
       ")"
      ]
     },
     "execution_count": 46,
     "metadata": {},
     "output_type": "execute_result"
    }
   ],
   "source": [
    "model.esm.encoder"
   ]
  },
  {
   "cell_type": "code",
   "execution_count": 50,
   "metadata": {},
   "outputs": [
    {
     "data": {
      "text/plain": [
       "torch.Size([3, 1280])"
      ]
     },
     "execution_count": 50,
     "metadata": {},
     "output_type": "execute_result"
    }
   ],
   "source": [
    "test_in = model.esm.embeddings.position_embeddings.forward(torch.tensor([0, 10, 20]))\n",
    "test_in.shape"
   ]
  },
  {
   "cell_type": "code",
   "execution_count": 56,
   "metadata": {},
   "outputs": [
    {
     "data": {
      "text/plain": [
       "torch.Size([1, 3, 1280])"
      ]
     },
     "execution_count": 56,
     "metadata": {},
     "output_type": "execute_result"
    }
   ],
   "source": [
    "test_in = test_in.unsqueeze(0)\n",
    "test_in.shape"
   ]
  },
  {
   "cell_type": "code",
   "execution_count": 52,
   "metadata": {
    "jupyter": {
     "source_hidden": true
    }
   },
   "outputs": [
    {
     "data": {
      "text/plain": [
       "EsmAttention(\n",
       "  (self): EsmSelfAttention(\n",
       "    (query): Linear(in_features=1280, out_features=1280, bias=True)\n",
       "    (key): Linear(in_features=1280, out_features=1280, bias=True)\n",
       "    (value): Linear(in_features=1280, out_features=1280, bias=True)\n",
       "    (dropout): Dropout(p=0.1, inplace=False)\n",
       "    (rotary_embeddings): RotaryEmbedding()\n",
       "  )\n",
       "  (output): EsmSelfOutput(\n",
       "    (dense): Linear(in_features=1280, out_features=1280, bias=True)\n",
       "    (dropout): Dropout(p=0.1, inplace=False)\n",
       "  )\n",
       "  (LayerNorm): LayerNorm((1280,), eps=1e-12, elementwise_affine=True)\n",
       ")"
      ]
     },
     "execution_count": 52,
     "metadata": {},
     "output_type": "execute_result"
    }
   ],
   "source": [
    "model.esm.encoder.layer[0].attention"
   ]
  },
  {
   "cell_type": "code",
   "execution_count": 57,
   "metadata": {
    "jupyter": {
     "source_hidden": true
    }
   },
   "outputs": [
    {
     "data": {
      "text/plain": [
       "(tensor([[[ 0.3632, -0.0569,  0.5661,  ...,  0.3834,  0.3638, -0.3643],\n",
       "          [ 0.3526,  0.1339,  0.5230,  ...,  0.2489,  0.4460, -0.5046],\n",
       "          [ 0.0295,  0.1245, -0.0329,  ...,  0.5122,  0.0323,  0.0163]]],\n",
       "        grad_fn=<AddBackward0>),)"
      ]
     },
     "execution_count": 57,
     "metadata": {},
     "output_type": "execute_result"
    }
   ],
   "source": [
    "model.esm.encoder.layer[0].attention.forward(test_in)"
   ]
  },
  {
   "attachments": {},
   "cell_type": "markdown",
   "metadata": {},
   "source": [
    "### Standard  Transformer Computation\n"
   ]
  },
  {
   "cell_type": "code",
   "execution_count": 58,
   "metadata": {},
   "outputs": [
    {
     "data": {
      "text/plain": [
       "(tensor([[[ 0.4116, -0.1217,  0.5763,  ...,  0.3237,  0.3597, -0.2915],\n",
       "          [ 0.2206, -0.1146,  0.2746,  ...,  0.3242,  0.2180, -0.4648],\n",
       "          [ 0.0406,  0.0139,  0.6548,  ...,  0.0047,  0.1591, -0.1251]]],\n",
       "        grad_fn=<AddBackward0>),)"
      ]
     },
     "execution_count": 58,
     "metadata": {},
     "output_type": "execute_result"
    }
   ],
   "source": [
    "model.esm.encoder.layer[0].attention.forward(test_in)"
   ]
  },
  {
   "cell_type": "code",
   "execution_count": 65,
   "metadata": {},
   "outputs": [
    {
     "data": {
      "text/plain": [
       "EsmLayer(\n",
       "  (attention): EsmAttention(\n",
       "    (self): EsmSelfAttention(\n",
       "      (query): Linear(in_features=1280, out_features=1280, bias=True)\n",
       "      (key): Linear(in_features=1280, out_features=1280, bias=True)\n",
       "      (value): Linear(in_features=1280, out_features=1280, bias=True)\n",
       "      (dropout): Dropout(p=0.1, inplace=False)\n",
       "      (rotary_embeddings): RotaryEmbedding()\n",
       "    )\n",
       "    (output): EsmSelfOutput(\n",
       "      (dense): Linear(in_features=1280, out_features=1280, bias=True)\n",
       "      (dropout): Dropout(p=0.1, inplace=False)\n",
       "    )\n",
       "    (LayerNorm): LayerNorm((1280,), eps=1e-12, elementwise_affine=True)\n",
       "  )\n",
       "  (intermediate): EsmIntermediate(\n",
       "    (dense): Linear(in_features=1280, out_features=5120, bias=True)\n",
       "  )\n",
       "  (output): EsmOutput(\n",
       "    (dense): Linear(in_features=5120, out_features=1280, bias=True)\n",
       "    (dropout): Dropout(p=0.1, inplace=True)\n",
       "  )\n",
       "  (LayerNorm): LayerNorm((1280,), eps=1e-12, elementwise_affine=True)\n",
       ")"
      ]
     },
     "execution_count": 65,
     "metadata": {},
     "output_type": "execute_result"
    }
   ],
   "source": [
    "model.esm.encoder.layer[0]"
   ]
  },
  {
   "cell_type": "code",
   "execution_count": 66,
   "metadata": {},
   "outputs": [
    {
     "data": {
      "text/plain": [
       "EsmContactPredictionHead(\n",
       "  (regression): Linear(in_features=660, out_features=1, bias=True)\n",
       "  (activation): Sigmoid()\n",
       ")"
      ]
     },
     "execution_count": 66,
     "metadata": {},
     "output_type": "execute_result"
    }
   ],
   "source": [
    "model.esm.contact_head"
   ]
  },
  {
   "cell_type": "code",
   "execution_count": null,
   "metadata": {},
   "outputs": [],
   "source": [
    "660 matrices of size nxn and output is a matrix of size nxn"
   ]
  },
  {
   "cell_type": "code",
   "execution_count": 67,
   "metadata": {},
   "outputs": [],
   "source": [
    "config = EsmConfig(position_embedding_type=\"alibi\")\n",
    "model = EsmForTokenClassification(config=config)\n"
   ]
  },
  {
   "cell_type": "code",
   "execution_count": 68,
   "metadata": {},
   "outputs": [
    {
     "data": {
      "text/plain": [
       "torch.Size([1, 61])"
      ]
     },
     "execution_count": 68,
     "metadata": {},
     "output_type": "execute_result"
    }
   ],
   "source": [
    "batch_tokens.shape"
   ]
  },
  {
   "cell_type": "code",
   "execution_count": 69,
   "metadata": {},
   "outputs": [],
   "source": [
    "embeds = model(batch_tokens)\n",
    "embeds.shape"
   ]
  },
  {
   "cell_type": "code",
   "execution_count": 72,
   "metadata": {},
   "outputs": [
    {
     "data": {
      "text/plain": [
       "torch.Size([1, 61, 1280])"
      ]
     },
     "execution_count": 72,
     "metadata": {},
     "output_type": "execute_result"
    }
   ],
   "source": [
    "embeds.logits.shape"
   ]
  },
  {
   "cell_type": "code",
   "execution_count": null,
   "metadata": {},
   "outputs": [],
   "source": []
  }
 ],
 "metadata": {
  "kernelspec": {
   "display_name": "Python 3 (ipykernel)",
   "language": "python",
   "name": "python3"
  },
  "language_info": {
   "codemirror_mode": {
    "name": "ipython",
    "version": 3
   },
   "file_extension": ".py",
   "mimetype": "text/x-python",
   "name": "python",
   "nbconvert_exporter": "python",
   "pygments_lexer": "ipython3",
   "version": "3.9.16"
  }
 },
 "nbformat": 4,
 "nbformat_minor": 4
}
